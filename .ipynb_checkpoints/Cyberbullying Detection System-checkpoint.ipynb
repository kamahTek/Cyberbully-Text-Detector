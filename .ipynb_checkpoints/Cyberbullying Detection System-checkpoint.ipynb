{
 "cells": [
  {
   "cell_type": "markdown",
   "metadata": {},
   "source": [
    "# Cyberbullying Detection System"
   ]
  },
  {
   "cell_type": "markdown",
   "metadata": {},
   "source": [
    "\n",
    "<img src=\"Images/Cyberbullying.jpg\" alt=\"Cyberbullying\" width=\"700\" height = \"300\"/>"
   ]
  },
  {
   "cell_type": "markdown",
   "metadata": {},
   "source": [
    "| | GROUP MEMBERS | GITHUB | \n",
    "| --- | --- | --- |\n",
    "| 1. | ROBINSON KARASHA ||\n",
    "| 2. | MAUREEN WAMBUGU |  https://github.com/Mau-Wambugu |\n",
    "| 3. | NATALIE OMONDI | https://github.com/akeyo03/capstone_project_phase5|\n",
    "| 4. | JAMES KAMAU |  |\n",
    "| 5. | MARTIN OMONDI| |\n",
    "| 6. | ANDREW MANWA|  |"
   ]
  },
  {
   "cell_type": "markdown",
   "metadata": {},
   "source": [
    "## 1.BUSINESS UNDERSTANDING\n",
    "> PROJECT OVERVIEW\n",
    "\n",
    "This project aims to create an automated detection system that leverages NLP and machine learning, particularly neural networks, to identify and categorize offensive, hateful, or negative language in social media comments.\n",
    "\n",
    "**Objective**\n",
    "\n",
    "By detecting and filtering harmful comments, we can help social media platforms minimize the exposure of users to cyberbullying .\n",
    "\n",
    "> BUSINESS PROBLEM\n",
    "\n",
    "With the rise of social media, millions of users are regularly exposed to negative and harmful interactions, leading to an increase in mental health issues, such as anxiety, depression, stress, and low self-esteem.\n",
    "Social media platforms need a proactive solution to detect and mitigate cyberbullying, reducing its psychological toll on users and enhancing overall user experience.\n",
    "\n",
    "> PROJECT OBJECTIVE\n",
    "\n",
    "* Develop an NLP-based system to identify offensive and hateful comments  on social media platforms.\n",
    "* Reduce user exposure to cyberbullying to promote a safer, more positive online environment.\n",
    "* Improve mental health outcomes by reducing instances of cyberbullying that can lead to anxiety, depression, and low self-esteem.\n",
    "* Support user retention and engagement by fostering a safe and supportive social media environment.\n",
    "\n",
    ">ANALYSIS QUESTIONS\n",
    "\n",
    "1.Which types of language are most commonly associated with cyberbullying?\n",
    "\n",
    "2.What accuracy can be achieved by the detection system in terms of true positives and false positives, specifically for offensive language?\n",
    "\n",
    "3.What is the distribution of harmful comments and on-harmful comments? Which of the two has more occurence?\n",
    "\n",
    ">DATA SOURCES\n",
    "\n",
    "We used data obtained from the [Hugging Face platform]( https://huggingface.co/datasets/tdavidson/hate_speech_offensive/tree/main/data), curated by Thomas Davidson.\n",
    "\n",
    "Data source: Hugging Face's \"tdavidson/hate_speech_offensive\"\n",
    "\n",
    "It contains a dataset with tweets labeled for hate speech, offensive language, or neither.\n",
    "\n",
    "Structure: Contains columns such as count, hate_speech_count, offensive_language_count, neither_count, class, and tweet.\n",
    "\n",
    "\n",
    ">STAKEHOLDERS\n",
    "\n",
    "**1. Social Media Users**: End users who benefit from reduced exposure to offensive language.\n",
    "\n",
    "**2. Platform Moderation Teams**: They need tools to effectively monitor and control the platform’s comment sections.\n",
    "\n",
    "**3.Data Scientists and Engineers**: They may be interested in building and refining the cyberbullying detection models.\n",
    "\n",
    "**4.Mental Health Advocates**: They have a vested interest in understanding the psychological impact of cyberbullying.\n",
    "\n",
    "**5.Executive Leadership (CEO and Managers)**: They may be interested in the impact of this project on user retention, satisfaction, and long-term brand reputation.\n",
    "\n",
    ">METHODOLOGY\n",
    "\n",
    "* This project will follow the CRISP-DM methodology:\n",
    "\n",
    "**1.Business Understanding**: Define the problem, objectives, and stakeholders to develop a comprehensive strategy for cyberbullying detection.\n",
    "\n",
    "**2.Data Understanding**: Collect and explore datasets with labeled comments, categorizing each comment based on severity.\n",
    "\n",
    "**3.Data Preparation**: Clean and preprocess text data, handling issues like misspellings, slang, and emojis. This may include techniques like tokenization, lemmatization, and stopword removal.\n",
    "\n",
    "**4.Modeling**:\n",
    "Use NLP techniques such as TF-IDF, Word2Vec, or BERT embeddings to convert text into numerical data.\n",
    "Train and evaluate neural network models, such as Convolutional Neural Networks (CNNs) for sequence data processing, or fine-tune a pre-trained transformer model for better language comprehension.\n",
    "\n",
    "**5.Evaluation**: Assess model performance using metrics like accuracy to understand if the model is able to classify the texts based on the different categories.\n",
    "\n",
    "**6.Deployment**: Integrate the model into the social media platform's backend, enabling real-time detection and filtering of offensive comments, with options for moderation and reporting"
   ]
  },
  {
   "cell_type": "markdown",
   "metadata": {},
   "source": [
    "## 2.DATA UNDERSTANDING\n",
    "\n",
    "### A. Dataset Overview\n",
    "\n",
    "For this analysis we will be using one dataset containing tweets and their various categories. The dataset contains the columns(features) below:\n",
    "\n",
    "**Count**: Total count of particular content classifications for each tweet.\n",
    "\n",
    "**Hate Speech Count**: Counts any content flagged as hate speech within the tweet.\n",
    "\n",
    "**Offensive Language Count**: Counts occurrences of offensive language.\n",
    "\n",
    "**Neither Count**: Counts tweets that contain neither hate speech nor offensive language.\n",
    "\n",
    "**Class**: Categorical label assigned to each tweet, indicating its classification as hate speech, offensive language, or neutral.\n",
    "\n",
    "**Tweet**: The actual tweet content.\n",
    "\n",
    "B. Data Processing\n",
    "\n",
    "**Transformation**: We'll need to preprocess text data by removing special characters, handling punctuation, and applying tokenization and stemming/lemmatization.\n",
    "\n",
    "C. Key Insights from the Data\n",
    "\n",
    "> **Outliers**\n",
    "\n",
    "Check for unusually high values in columns like hate_speech_count, offensive_language_count, or neither_count that may skew classification results. \n",
    "\n",
    "> **Missing Values**\n",
    "\n",
    "The dataset is assessed if any column has missing values. \n",
    "\n",
    "### D. Data Analysis\n",
    "> **i) Univariate Analysis**\n",
    "\n",
    "**Distribution of Count** :Shows the distribution of count, helping us understand the overall density of label occurrences in each tweet.\n",
    "\n",
    "**Hate speech count distribution** :Visualizes the count of hate speech labels within each tweet, helping assess the frequency of hate speech in the dataset.\n",
    "\n",
    "**Distribution of Offensive language count** :Shows the distribution of offensive language occurrences, indicating how frequently tweets contain offensive language.\n",
    "\n",
    "**Distribution of neither_count** : Visualizes instances where tweets contain neither hate speech nor offensive language.\n",
    "\n",
    "**Class Distribution**: Determine the distribution of classes to understand if the data is imbalanced.\n",
    "\n",
    "**Tweet Lengths**: Examine tweet lengths to see if certain classes tend to have more concise or lengthy tweets.\n",
    "\n",
    "> **ii) Bivariate Analysis**\n",
    "\n",
    "**Count vs Class**: Analyze how frequently hate speech or offensive language appears across classes.\n",
    "\n",
    "**Offensive Language vs. Hate Speech Counts**: Investigate the overlap to understand if tweets with offensive language are more likely to be labeled as hate speech.\n",
    "\n",
    "### E. Modeling\n",
    "\n",
    "For this project, we’ll implement two types of classification systems:\n",
    "\n",
    " **Text Classification**\n",
    "\n",
    "*Using models like Logistic Regression, Support Vector Machine (SVM), and Random Forest.\n",
    "\n",
    "*Word embeddings like TF-IDF or pre-trained models (e.g., Word2Vec) will be used to represent tweet content.\n",
    "\n",
    "**Deep Learning Models**\n",
    "\n",
    "We will explore using LSTM or BERT for handling sequential patterns in tweets.\n",
    "\n",
    "### F. Model Evaluation\n",
    "\n",
    "> **Metrics**\n",
    "\n",
    "**Precision**: Measure how many tweets predicted as hate speech or offensive language are relevant.\n",
    "\n",
    "**Recall**: Measure the proportion of actual hate speech or offensive language tweets correctly classified.\n",
    "\n",
    "**F1-score**: This metric will balance precision and recall, especially if there is class imbalance.\n",
    "\n",
    "**ROC-AUC**: Used to evaluate the model's ability to distinguish between classes.\n",
    "\n",
    "### G. Expected Outcome\n",
    "\n",
    "**Main Metric**:\n",
    "\n",
    "Focus on F1-score, aiming for a minimum of 75% to ensure the model effectively captures hate speech and offensive language, while reducing false positives. This will ensure that flagged tweets are appropriately categorized to aid in content moderation and enhance user experience by minimizing exposure to negative content.\n",
    "\n",
    "\n",
    "\n",
    "\n",
    "\n",
    "\n"
   ]
  },
  {
   "cell_type": "markdown",
   "metadata": {},
   "source": [
    "## 3.DATA PREPARATION\n",
    "For this section of the project we will prepare our data for analysis by loading our data for inspection, visualizing it and  cleaning it to better improve the dataset for analysis."
   ]
  },
  {
   "cell_type": "markdown",
   "metadata": {},
   "source": [
    "### i)Loading the dataset"
   ]
  },
  {
   "cell_type": "code",
   "execution_count": 98,
   "metadata": {},
   "outputs": [],
   "source": [
    "#import the libraries\n",
    "import pandas as pd\n",
    "import numpy as np\n",
    "import seaborn as sns\n",
    "import matplotlib.pyplot as plt"
   ]
  },
  {
   "cell_type": "code",
   "execution_count": 99,
   "metadata": {},
   "outputs": [
    {
     "name": "stdout",
     "output_type": "stream",
     "text": [
      "Requirement already satisfied: datasets in c:\\users\\user\\appdata\\roaming\\python\\python38\\site-packages (3.0.2)\n",
      "Requirement already satisfied: tqdm>=4.66.3 in c:\\users\\user\\anaconda3\\envs\\learn-env\\lib\\site-packages (from datasets) (4.66.6)\n",
      "Requirement already satisfied: pyyaml>=5.1 in c:\\users\\user\\anaconda3\\envs\\learn-env\\lib\\site-packages (from datasets) (5.3.1)\n",
      "Requirement already satisfied: huggingface-hub>=0.23.0 in c:\\users\\user\\appdata\\roaming\\python\\python38\\site-packages (from datasets) (0.26.2)\n",
      "Requirement already satisfied: numpy>=1.17 in c:\\users\\user\\anaconda3\\envs\\learn-env\\lib\\site-packages (from datasets) (1.18.5)\n",
      "Requirement already satisfied: pyarrow>=15.0.0 in c:\\users\\user\\appdata\\roaming\\python\\python38\\site-packages (from datasets) (17.0.0)\n",
      "Requirement already satisfied: dill<0.3.9,>=0.3.0 in c:\\users\\user\\anaconda3\\envs\\learn-env\\lib\\site-packages (from datasets) (0.3.8)\n",
      "Requirement already satisfied: aiohttp in c:\\users\\user\\anaconda3\\envs\\learn-env\\lib\\site-packages (from datasets) (3.6.3)\n",
      "Requirement already satisfied: fsspec[http]<=2024.9.0,>=2023.1.0 in c:\\users\\user\\anaconda3\\envs\\learn-env\\lib\\site-packages (from datasets) (2024.9.0)\n",
      "Requirement already satisfied: requests>=2.32.2 in c:\\users\\user\\appdata\\roaming\\python\\python38\\site-packages (from datasets) (2.32.3)\n",
      "Requirement already satisfied: filelock in c:\\users\\user\\appdata\\roaming\\python\\python38\\site-packages (from datasets) (3.16.1)\n",
      "Requirement already satisfied: xxhash in c:\\users\\user\\appdata\\roaming\\python\\python38\\site-packages (from datasets) (3.5.0)\n",
      "Requirement already satisfied: pandas in c:\\users\\user\\anaconda3\\envs\\learn-env\\lib\\site-packages (from datasets) (1.1.3)\n",
      "Requirement already satisfied: multiprocess<0.70.17 in c:\\users\\user\\appdata\\roaming\\python\\python38\\site-packages (from datasets) (0.70.16)\n",
      "Requirement already satisfied: packaging in c:\\users\\user\\anaconda3\\envs\\learn-env\\lib\\site-packages (from datasets) (20.4)\n",
      "Requirement already satisfied: colorama; platform_system == \"Windows\" in c:\\users\\user\\anaconda3\\envs\\learn-env\\lib\\site-packages (from tqdm>=4.66.3->datasets) (0.4.3)\n",
      "Requirement already satisfied: typing-extensions>=3.7.4.3 in c:\\users\\user\\appdata\\roaming\\python\\python38\\site-packages (from huggingface-hub>=0.23.0->datasets) (4.12.2)\n",
      "Requirement already satisfied: async-timeout<4.0,>=3.0 in c:\\users\\user\\anaconda3\\envs\\learn-env\\lib\\site-packages (from aiohttp->datasets) (3.0.1)\n",
      "Requirement already satisfied: attrs>=17.3.0 in c:\\users\\user\\anaconda3\\envs\\learn-env\\lib\\site-packages (from aiohttp->datasets) (20.2.0)\n",
      "Requirement already satisfied: chardet<4.0,>=2.0 in c:\\users\\user\\anaconda3\\envs\\learn-env\\lib\\site-packages (from aiohttp->datasets) (3.0.4)\n",
      "Requirement already satisfied: multidict<5.0,>=4.5 in c:\\users\\user\\anaconda3\\envs\\learn-env\\lib\\site-packages (from aiohttp->datasets) (4.7.5)\n",
      "Requirement already satisfied: yarl<1.6.0,>=1.0 in c:\\users\\user\\anaconda3\\envs\\learn-env\\lib\\site-packages (from aiohttp->datasets) (1.5.1)\n",
      "Requirement already satisfied: idna<4,>=2.5 in c:\\users\\user\\anaconda3\\envs\\learn-env\\lib\\site-packages (from requests>=2.32.2->datasets) (2.10)\n",
      "Requirement already satisfied: certifi>=2017.4.17 in c:\\users\\user\\anaconda3\\envs\\learn-env\\lib\\site-packages (from requests>=2.32.2->datasets) (2024.2.2)\n",
      "Requirement already satisfied: charset-normalizer<4,>=2 in c:\\users\\user\\appdata\\roaming\\python\\python38\\site-packages (from requests>=2.32.2->datasets) (3.4.0)\n",
      "Requirement already satisfied: urllib3<3,>=1.21.1 in c:\\users\\user\\anaconda3\\envs\\learn-env\\lib\\site-packages (from requests>=2.32.2->datasets) (1.25.10)\n",
      "Requirement already satisfied: pytz>=2017.2 in c:\\users\\user\\anaconda3\\envs\\learn-env\\lib\\site-packages (from pandas->datasets) (2020.1)\n",
      "Requirement already satisfied: python-dateutil>=2.7.3 in c:\\users\\user\\anaconda3\\envs\\learn-env\\lib\\site-packages (from pandas->datasets) (2.8.1)\n",
      "Requirement already satisfied: pyparsing>=2.0.2 in c:\\users\\user\\anaconda3\\envs\\learn-env\\lib\\site-packages (from packaging->datasets) (2.4.7)\n",
      "Requirement already satisfied: six in c:\\users\\user\\anaconda3\\envs\\learn-env\\lib\\site-packages (from packaging->datasets) (1.15.0)\n"
     ]
    }
   ],
   "source": [
    "#install the dataset\n",
    "!pip install datasets "
   ]
  },
  {
   "cell_type": "code",
   "execution_count": 100,
   "metadata": {},
   "outputs": [],
   "source": [
    "#load the dataset\n",
    "from datasets import load_dataset\n",
    "\n",
    "ds = load_dataset(\"tdavidson/hate_speech_offensive\")"
   ]
  },
  {
   "cell_type": "code",
   "execution_count": 101,
   "metadata": {},
   "outputs": [
    {
     "data": {
      "text/html": [
       "<div>\n",
       "<style scoped>\n",
       "    .dataframe tbody tr th:only-of-type {\n",
       "        vertical-align: middle;\n",
       "    }\n",
       "\n",
       "    .dataframe tbody tr th {\n",
       "        vertical-align: top;\n",
       "    }\n",
       "\n",
       "    .dataframe thead th {\n",
       "        text-align: right;\n",
       "    }\n",
       "</style>\n",
       "<table border=\"1\" class=\"dataframe\">\n",
       "  <thead>\n",
       "    <tr style=\"text-align: right;\">\n",
       "      <th></th>\n",
       "      <th>count</th>\n",
       "      <th>hate_speech_count</th>\n",
       "      <th>offensive_language_count</th>\n",
       "      <th>neither_count</th>\n",
       "      <th>class</th>\n",
       "      <th>tweet</th>\n",
       "    </tr>\n",
       "  </thead>\n",
       "  <tbody>\n",
       "    <tr>\n",
       "      <th>0</th>\n",
       "      <td>3</td>\n",
       "      <td>0</td>\n",
       "      <td>0</td>\n",
       "      <td>3</td>\n",
       "      <td>2</td>\n",
       "      <td>!!! RT @mayasolovely: As a woman you shouldn't...</td>\n",
       "    </tr>\n",
       "    <tr>\n",
       "      <th>1</th>\n",
       "      <td>3</td>\n",
       "      <td>0</td>\n",
       "      <td>3</td>\n",
       "      <td>0</td>\n",
       "      <td>1</td>\n",
       "      <td>!!!!! RT @mleew17: boy dats cold...tyga dwn ba...</td>\n",
       "    </tr>\n",
       "    <tr>\n",
       "      <th>2</th>\n",
       "      <td>3</td>\n",
       "      <td>0</td>\n",
       "      <td>3</td>\n",
       "      <td>0</td>\n",
       "      <td>1</td>\n",
       "      <td>!!!!!!! RT @UrKindOfBrand Dawg!!!! RT @80sbaby...</td>\n",
       "    </tr>\n",
       "    <tr>\n",
       "      <th>3</th>\n",
       "      <td>3</td>\n",
       "      <td>0</td>\n",
       "      <td>2</td>\n",
       "      <td>1</td>\n",
       "      <td>1</td>\n",
       "      <td>!!!!!!!!! RT @C_G_Anderson: @viva_based she lo...</td>\n",
       "    </tr>\n",
       "    <tr>\n",
       "      <th>4</th>\n",
       "      <td>6</td>\n",
       "      <td>0</td>\n",
       "      <td>6</td>\n",
       "      <td>0</td>\n",
       "      <td>1</td>\n",
       "      <td>!!!!!!!!!!!!! RT @ShenikaRoberts: The shit you...</td>\n",
       "    </tr>\n",
       "    <tr>\n",
       "      <th>5</th>\n",
       "      <td>3</td>\n",
       "      <td>1</td>\n",
       "      <td>2</td>\n",
       "      <td>0</td>\n",
       "      <td>1</td>\n",
       "      <td>!!!!!!!!!!!!!!!!!!\"@T_Madison_x: The shit just...</td>\n",
       "    </tr>\n",
       "    <tr>\n",
       "      <th>6</th>\n",
       "      <td>3</td>\n",
       "      <td>0</td>\n",
       "      <td>3</td>\n",
       "      <td>0</td>\n",
       "      <td>1</td>\n",
       "      <td>!!!!!!\"@__BrighterDays: I can not just sit up ...</td>\n",
       "    </tr>\n",
       "    <tr>\n",
       "      <th>7</th>\n",
       "      <td>3</td>\n",
       "      <td>0</td>\n",
       "      <td>3</td>\n",
       "      <td>0</td>\n",
       "      <td>1</td>\n",
       "      <td>!!!!&amp;#8220;@selfiequeenbri: cause I'm tired of...</td>\n",
       "    </tr>\n",
       "    <tr>\n",
       "      <th>8</th>\n",
       "      <td>3</td>\n",
       "      <td>0</td>\n",
       "      <td>3</td>\n",
       "      <td>0</td>\n",
       "      <td>1</td>\n",
       "      <td>\" &amp;amp; you might not get ya bitch back &amp;amp; ...</td>\n",
       "    </tr>\n",
       "    <tr>\n",
       "      <th>9</th>\n",
       "      <td>3</td>\n",
       "      <td>1</td>\n",
       "      <td>2</td>\n",
       "      <td>0</td>\n",
       "      <td>1</td>\n",
       "      <td>\" @rhythmixx_ :hobbies include: fighting Maria...</td>\n",
       "    </tr>\n",
       "    <tr>\n",
       "      <th>10</th>\n",
       "      <td>3</td>\n",
       "      <td>0</td>\n",
       "      <td>3</td>\n",
       "      <td>0</td>\n",
       "      <td>1</td>\n",
       "      <td>\" Keeks is a bitch she curves everyone \" lol I...</td>\n",
       "    </tr>\n",
       "    <tr>\n",
       "      <th>11</th>\n",
       "      <td>3</td>\n",
       "      <td>0</td>\n",
       "      <td>3</td>\n",
       "      <td>0</td>\n",
       "      <td>1</td>\n",
       "      <td>\" Murda Gang bitch its Gang Land \"</td>\n",
       "    </tr>\n",
       "    <tr>\n",
       "      <th>12</th>\n",
       "      <td>3</td>\n",
       "      <td>0</td>\n",
       "      <td>2</td>\n",
       "      <td>1</td>\n",
       "      <td>1</td>\n",
       "      <td>\" So hoes that smoke are losers ? \" yea ... go...</td>\n",
       "    </tr>\n",
       "    <tr>\n",
       "      <th>13</th>\n",
       "      <td>3</td>\n",
       "      <td>0</td>\n",
       "      <td>3</td>\n",
       "      <td>0</td>\n",
       "      <td>1</td>\n",
       "      <td>\" bad bitches is the only thing that i like \"</td>\n",
       "    </tr>\n",
       "    <tr>\n",
       "      <th>14</th>\n",
       "      <td>3</td>\n",
       "      <td>1</td>\n",
       "      <td>2</td>\n",
       "      <td>0</td>\n",
       "      <td>1</td>\n",
       "      <td>\" bitch get up off me \"</td>\n",
       "    </tr>\n",
       "    <tr>\n",
       "      <th>15</th>\n",
       "      <td>3</td>\n",
       "      <td>0</td>\n",
       "      <td>3</td>\n",
       "      <td>0</td>\n",
       "      <td>1</td>\n",
       "      <td>\" bitch nigga miss me with it \"</td>\n",
       "    </tr>\n",
       "    <tr>\n",
       "      <th>16</th>\n",
       "      <td>3</td>\n",
       "      <td>0</td>\n",
       "      <td>3</td>\n",
       "      <td>0</td>\n",
       "      <td>1</td>\n",
       "      <td>\" bitch plz whatever \"</td>\n",
       "    </tr>\n",
       "    <tr>\n",
       "      <th>17</th>\n",
       "      <td>3</td>\n",
       "      <td>1</td>\n",
       "      <td>2</td>\n",
       "      <td>0</td>\n",
       "      <td>1</td>\n",
       "      <td>\" bitch who do you love \"</td>\n",
       "    </tr>\n",
       "    <tr>\n",
       "      <th>18</th>\n",
       "      <td>3</td>\n",
       "      <td>0</td>\n",
       "      <td>3</td>\n",
       "      <td>0</td>\n",
       "      <td>1</td>\n",
       "      <td>\" bitches get cut off everyday B \"</td>\n",
       "    </tr>\n",
       "    <tr>\n",
       "      <th>19</th>\n",
       "      <td>3</td>\n",
       "      <td>0</td>\n",
       "      <td>3</td>\n",
       "      <td>0</td>\n",
       "      <td>1</td>\n",
       "      <td>\" black bottle &amp;amp; a bad bitch \"</td>\n",
       "    </tr>\n",
       "  </tbody>\n",
       "</table>\n",
       "</div>"
      ],
      "text/plain": [
       "    count  hate_speech_count  offensive_language_count  neither_count  class  \\\n",
       "0       3                  0                         0              3      2   \n",
       "1       3                  0                         3              0      1   \n",
       "2       3                  0                         3              0      1   \n",
       "3       3                  0                         2              1      1   \n",
       "4       6                  0                         6              0      1   \n",
       "5       3                  1                         2              0      1   \n",
       "6       3                  0                         3              0      1   \n",
       "7       3                  0                         3              0      1   \n",
       "8       3                  0                         3              0      1   \n",
       "9       3                  1                         2              0      1   \n",
       "10      3                  0                         3              0      1   \n",
       "11      3                  0                         3              0      1   \n",
       "12      3                  0                         2              1      1   \n",
       "13      3                  0                         3              0      1   \n",
       "14      3                  1                         2              0      1   \n",
       "15      3                  0                         3              0      1   \n",
       "16      3                  0                         3              0      1   \n",
       "17      3                  1                         2              0      1   \n",
       "18      3                  0                         3              0      1   \n",
       "19      3                  0                         3              0      1   \n",
       "\n",
       "                                                tweet  \n",
       "0   !!! RT @mayasolovely: As a woman you shouldn't...  \n",
       "1   !!!!! RT @mleew17: boy dats cold...tyga dwn ba...  \n",
       "2   !!!!!!! RT @UrKindOfBrand Dawg!!!! RT @80sbaby...  \n",
       "3   !!!!!!!!! RT @C_G_Anderson: @viva_based she lo...  \n",
       "4   !!!!!!!!!!!!! RT @ShenikaRoberts: The shit you...  \n",
       "5   !!!!!!!!!!!!!!!!!!\"@T_Madison_x: The shit just...  \n",
       "6   !!!!!!\"@__BrighterDays: I can not just sit up ...  \n",
       "7   !!!!&#8220;@selfiequeenbri: cause I'm tired of...  \n",
       "8   \" &amp; you might not get ya bitch back &amp; ...  \n",
       "9   \" @rhythmixx_ :hobbies include: fighting Maria...  \n",
       "10  \" Keeks is a bitch she curves everyone \" lol I...  \n",
       "11                 \" Murda Gang bitch its Gang Land \"  \n",
       "12  \" So hoes that smoke are losers ? \" yea ... go...  \n",
       "13      \" bad bitches is the only thing that i like \"  \n",
       "14                            \" bitch get up off me \"  \n",
       "15                    \" bitch nigga miss me with it \"  \n",
       "16                             \" bitch plz whatever \"  \n",
       "17                          \" bitch who do you love \"  \n",
       "18                 \" bitches get cut off everyday B \"  \n",
       "19                 \" black bottle &amp; a bad bitch \"  "
      ]
     },
     "execution_count": 101,
     "metadata": {},
     "output_type": "execute_result"
    }
   ],
   "source": [
    "#convert the dataset into Dataframe\n",
    "train_data = ds['train']\n",
    "# Convert the dataset to a DataFrame\n",
    "train_df = pd.DataFrame(train_data)\n",
    "#view first 20 rowws\n",
    "train_df.head(20)"
   ]
  },
  {
   "cell_type": "code",
   "execution_count": 192,
   "metadata": {},
   "outputs": [
    {
     "data": {
      "text/plain": [
       "85       \"@Blackman38Tide: @WhaleLookyHere @HowdyDowdy1...\n",
       "89       \"@CB_Baby24: @white_thunduh alsarabsss\" hes a ...\n",
       "110      \"@DevilGrimz: @VigxRArts you're fucking gay, b...\n",
       "184      \"@MarkRoundtreeJr: LMFAOOOO I HATE BLACK PEOPL...\n",
       "202      \"@NoChillPaz: \"At least I'm not a nigger\" http...\n",
       "                               ...                        \n",
       "24576                  this guy is the biggest faggot omfg\n",
       "24685    which one of these names is more offensive kik...\n",
       "24751           you a pussy ass nigga and I know it nigga.\n",
       "24776                                   you're all niggers\n",
       "24777    you're such a retard i hope you get type 2 dia...\n",
       "Name: tweet, Length: 1430, dtype: object"
      ]
     },
     "execution_count": 192,
     "metadata": {},
     "output_type": "execute_result"
    }
   ],
   "source": [
    "filtered=train_df[train_df['class']==0]\n",
    "filtered['tweet']"
   ]
  },
  {
   "cell_type": "code",
   "execution_count": 102,
   "metadata": {},
   "outputs": [
    {
     "name": "stdout",
     "output_type": "stream",
     "text": [
      "<class 'pandas.core.frame.DataFrame'>\n",
      "RangeIndex: 24783 entries, 0 to 24782\n",
      "Data columns (total 6 columns):\n",
      " #   Column                    Non-Null Count  Dtype \n",
      "---  ------                    --------------  ----- \n",
      " 0   count                     24783 non-null  int64 \n",
      " 1   hate_speech_count         24783 non-null  int64 \n",
      " 2   offensive_language_count  24783 non-null  int64 \n",
      " 3   neither_count             24783 non-null  int64 \n",
      " 4   class                     24783 non-null  int64 \n",
      " 5   tweet                     24783 non-null  object\n",
      "dtypes: int64(5), object(1)\n",
      "memory usage: 1.1+ MB\n"
     ]
    }
   ],
   "source": [
    "#summary of the dataset\n",
    "train_df.info()"
   ]
  },
  {
   "cell_type": "code",
   "execution_count": 103,
   "metadata": {},
   "outputs": [
    {
     "data": {
      "text/plain": [
       "(24783, 6)"
      ]
     },
     "execution_count": 103,
     "metadata": {},
     "output_type": "execute_result"
    }
   ],
   "source": [
    "train_df.shape"
   ]
  },
  {
   "cell_type": "markdown",
   "metadata": {},
   "source": [
    "### ii) Exploratory Data Analysis (EDA)"
   ]
  },
  {
   "cell_type": "markdown",
   "metadata": {},
   "source": [
    "### i) Univariate analysis\n",
    "For this section, we evaluate each column to get an understanding of how the inputs in each are distributed."
   ]
  },
  {
   "cell_type": "markdown",
   "metadata": {},
   "source": [
    "### a) Distribution of Count\n",
    "This analysis will show the distribution of count, helping us understand the overall density of label occurrences in each tweet."
   ]
  },
  {
   "cell_type": "code",
   "execution_count": 104,
   "metadata": {},
   "outputs": [
    {
     "data": {
      "text/plain": [
       "3    22807\n",
       "6     1571\n",
       "4      211\n",
       "9      167\n",
       "7       27\n",
       "Name: count, dtype: int64"
      ]
     },
     "execution_count": 104,
     "metadata": {},
     "output_type": "execute_result"
    }
   ],
   "source": [
    "train_df['count'].value_counts()"
   ]
  },
  {
   "cell_type": "code",
   "execution_count": 105,
   "metadata": {},
   "outputs": [
    {
     "data": {
      "image/png": "[encoded data removed]",
      "text/plain": [
       "<Figure size 720x432 with 1 Axes>"
      ]
     },
     "metadata": {
      "needs_background": "light"
     },
     "output_type": "display_data"
    }
   ],
   "source": [
    "# Plotting the distribution of 'count'\n",
    "plt.figure(figsize=(10, 6))\n",
    "sns.histplot(train_df['count'], bins=30, kde=True, color=\"skyblue\")\n",
    "plt.title(\"Distribution of Total Count of Labels in Each Tweet\")\n",
    "plt.xlabel(\"Count\")\n",
    "plt.ylabel(\"Frequency\")\n",
    "plt.show()"
   ]
  },
  {
   "cell_type": "markdown",
   "metadata": {},
   "source": [
    "#### Interpretation\n",
    "\n",
    "The distribution of count values in the dataset is heavily skewed, with most tweets having a count of 3 with a total of 22807, while other counts are significantly lower with 1,571 tweets having a count of 6, 211 tweets having a count of 4, 167 tweets having a count of 9 and only 27 tweets having a count of 7.\n",
    "The histogram shows a right-skewed distribution, with a high concentration at lower counts and a steep drop-off as counts increase. This suggests an imbalance in label representation, with most tweets having fewer labels, which will need handling so as not to impact data processing and modeling."
   ]
  },
  {
   "cell_type": "markdown",
   "metadata": {},
   "source": [
    "### b) Distribution of Hate speech count\n",
    "This analysis helps to visualizes the count of hate speech labels within each tweet, helping assess the frequency of hate speech in the dataset."
   ]
  },
  {
   "cell_type": "code",
   "execution_count": 106,
   "metadata": {},
   "outputs": [
    {
     "data": {
      "text/plain": [
       "0    19790\n",
       "1     3419\n",
       "2     1251\n",
       "3      287\n",
       "4       21\n",
       "5        7\n",
       "6        5\n",
       "7        3\n",
       "Name: hate_speech_count, dtype: int64"
      ]
     },
     "execution_count": 106,
     "metadata": {},
     "output_type": "execute_result"
    }
   ],
   "source": [
    "train_df['hate_speech_count'].value_counts()"
   ]
  },
  {
   "cell_type": "code",
   "execution_count": 107,
   "metadata": {},
   "outputs": [
    {
     "data": {
      "image/png": "[encoded data removed]",
      "text/plain": [
       "<Figure size 720x432 with 1 Axes>"
      ]
     },
     "metadata": {
      "needs_background": "light"
     },
     "output_type": "display_data"
    }
   ],
   "source": [
    "# Plotting the distribution of 'hate_speech_count'\n",
    "plt.figure(figsize=(10, 6))\n",
    "sns.histplot(train_df['hate_speech_count'], bins=30, kde=True, color=\"blue\")\n",
    "plt.title(\"Distribution of Hate Speech Count\")\n",
    "plt.xlabel(\"Hate Speech Count\")\n",
    "plt.ylabel(\"Frequency\")\n",
    "plt.show()"
   ]
  },
  {
   "cell_type": "markdown",
   "metadata": {},
   "source": [
    "####  Interpretation\n",
    "The hate_speech_count distribution is highly skewed, with the majority of tweets (19,790) having a count of 0 (no hate speech labels). Other counts are much less frequent with 3,419 tweets having a count of 1, 1,251 tweets having a count of 2, 287 tweets have a count of 3 and counts of 4, 5 and 6 having the lowest tweets showing they are a rare occurrence.\n",
    "The histogram shows a right-skewed distribution, with most tweets containing minimal or no hate speech content. This indicates a significant imbalance in the dataset, which needs to be handled to avoid impacting model performance when predicting higher counts of hate speech."
   ]
  },
  {
   "cell_type": "markdown",
   "metadata": {},
   "source": [
    "### c) Distribution of Offensive language count\n",
    "This visualization shows the distribution of offensive language occurrences, indicating how frequently tweets contain offensive language."
   ]
  },
  {
   "cell_type": "code",
   "execution_count": 108,
   "metadata": {},
   "outputs": [
    {
     "data": {
      "text/plain": [
       "3    13383\n",
       "2     4246\n",
       "0     3475\n",
       "1     2066\n",
       "6      857\n",
       "5      369\n",
       "4      251\n",
       "9       66\n",
       "8       37\n",
       "7       33\n",
       "Name: offensive_language_count, dtype: int64"
      ]
     },
     "execution_count": 108,
     "metadata": {},
     "output_type": "execute_result"
    }
   ],
   "source": [
    "train_df['offensive_language_count'].value_counts()"
   ]
  },
  {
   "cell_type": "code",
   "execution_count": 109,
   "metadata": {},
   "outputs": [
    {
     "data": {
      "image/png": "[encoded data removed]",
      "text/plain": [
       "<Figure size 720x432 with 1 Axes>"
      ]
     },
     "metadata": {
      "needs_background": "light"
     },
     "output_type": "display_data"
    }
   ],
   "source": [
    "# Plotting the distribution of 'offensive_language_count'\n",
    "plt.figure(figsize=(10, 6))\n",
    "sns.histplot(train_df['offensive_language_count'], bins=30, kde=True, color=\"lightgreen\")\n",
    "plt.title(\"Distribution of Offensive Language Count\")\n",
    "plt.xlabel(\"Offensive Language Count\")\n",
    "plt.ylabel(\"Frequency\")\n",
    "plt.show()"
   ]
  },
  {
   "cell_type": "markdown",
   "metadata": {},
   "source": [
    "#### Interpretation\n",
    "The distribution shows that most tweets have lower counts of offensive language labels. The most frequent count is 3 with 13,383 tweets, followed by\n",
    "count of 2 with 4,246 tweets, count 0 with 3,475 tweets and count of 1 with 2,066 tweets.\n",
    "Higher counts, like 6 with 857 tweets, are progressively less common.\n",
    "The histogram reveals a slightly skewed distribution, with most tweets clustering around counts of 0–3, suggesting moderate imbalance in the dataset. This distribution could influence how the data is balanced during model training."
   ]
  },
  {
   "cell_type": "markdown",
   "metadata": {},
   "source": [
    "### d) Distribution of neither_count\n",
    "This analysis helps visualize instances where tweets contain neither hate speech nor offensive language."
   ]
  },
  {
   "cell_type": "code",
   "execution_count": 110,
   "metadata": {},
   "outputs": [
    {
     "data": {
      "text/plain": [
       "0    18892\n",
       "3     2790\n",
       "1     1694\n",
       "2     1200\n",
       "6      103\n",
       "5       54\n",
       "4       35\n",
       "9        5\n",
       "8        5\n",
       "7        5\n",
       "Name: neither_count, dtype: int64"
      ]
     },
     "execution_count": 110,
     "metadata": {},
     "output_type": "execute_result"
    }
   ],
   "source": [
    "train_df['neither_count'].value_counts()"
   ]
  },
  {
   "cell_type": "code",
   "execution_count": 111,
   "metadata": {},
   "outputs": [
    {
     "data": {
      "image/png": "[encoded data removed]",
      "text/plain": [
       "<Figure size 720x432 with 1 Axes>"
      ]
     },
     "metadata": {
      "needs_background": "light"
     },
     "output_type": "display_data"
    }
   ],
   "source": [
    "plt.figure(figsize=(10, 6))\n",
    "sns.histplot(train_df['neither_count'], bins=30, kde=True, color=\"darkblue\")\n",
    "plt.title(\"Distribution of Neither Count\")\n",
    "plt.xlabel(\"Neither Count\")\n",
    "plt.ylabel(\"Frequency\")\n",
    "plt.show()"
   ]
  },
  {
   "cell_type": "markdown",
   "metadata": {},
   "source": [
    "#### Interpretation\n",
    "The neither_count distribution is highly skewed, with the majority of tweets (18,892) having a count of 0, indicating they likely contain offensive or hateful language. Lower counts are much less common with 2,790 tweets having a count of 3, 1,694 tweets having a count of 1, 1,200 tweets having a count of 2 and higher counts, like 6 having only 103 tweets.\n",
    "The histogram confirms a right-skewed distribution, with most tweets clustering around a count of 0. This suggests a significant imbalance in neutral language labels, which may affect model training."
   ]
  },
  {
   "cell_type": "markdown",
   "metadata": {},
   "source": [
    "### e) Distribution of class (Label for each tweet)\n",
    "This count plot displays the number of instances in each class, helping to identify any class imbalances."
   ]
  },
  {
   "cell_type": "code",
   "execution_count": 112,
   "metadata": {},
   "outputs": [
    {
     "data": {
      "text/plain": [
       "1    19190\n",
       "2     4163\n",
       "0     1430\n",
       "Name: class, dtype: int64"
      ]
     },
     "execution_count": 112,
     "metadata": {},
     "output_type": "execute_result"
    }
   ],
   "source": [
    "train_df['class'].value_counts()"
   ]
  },
  {
   "cell_type": "code",
   "execution_count": 113,
   "metadata": {},
   "outputs": [
    {
     "data": {
      "image/png": "[encoded data removed]",
      "text/plain": [
       "<Figure size 576x360 with 1 Axes>"
      ]
     },
     "metadata": {
      "needs_background": "light"
     },
     "output_type": "display_data"
    }
   ],
   "source": [
    "# Plotting the distribution of classes\n",
    "plt.figure(figsize=(8, 5))\n",
    "sns.countplot(data=train_df, x='class', palette='coolwarm')\n",
    "plt.title(\"Distribution of Classes\")\n",
    "plt.xlabel(\"Class\")\n",
    "plt.ylabel(\"Count\")\n",
    "plt.show()"
   ]
  },
  {
   "cell_type": "markdown",
   "metadata": {},
   "source": [
    "#### Interpretation\n",
    "The class distribution shows a clear imbalance with Class 1 (offensive language) is the most common, with 19,190 tweets, Class 2 (neutral) has 4,163 tweets and Class 0 (hate speech) is the least frequent, with only 1,430 tweets. The imbalance needs to be handled to ensure it does not affect the model performance.\n",
    "\n",
    "\n",
    "\n",
    "\n",
    "\n",
    "\n"
   ]
  },
  {
   "cell_type": "markdown",
   "metadata": {},
   "source": [
    "### f) Distribution of Tweet Lengths\n",
    "Analyzing the length of tweets gives insights into the average tweet length for each class."
   ]
  },
  {
   "cell_type": "code",
   "execution_count": 114,
   "metadata": {},
   "outputs": [
    {
     "data": {
      "text/html": [
       "<div>\n",
       "<style scoped>\n",
       "    .dataframe tbody tr th:only-of-type {\n",
       "        vertical-align: middle;\n",
       "    }\n",
       "\n",
       "    .dataframe tbody tr th {\n",
       "        vertical-align: top;\n",
       "    }\n",
       "\n",
       "    .dataframe thead th {\n",
       "        text-align: right;\n",
       "    }\n",
       "</style>\n",
       "<table border=\"1\" class=\"dataframe\">\n",
       "  <thead>\n",
       "    <tr style=\"text-align: right;\">\n",
       "      <th></th>\n",
       "      <th>count</th>\n",
       "      <th>hate_speech_count</th>\n",
       "      <th>offensive_language_count</th>\n",
       "      <th>neither_count</th>\n",
       "      <th>class</th>\n",
       "      <th>tweet</th>\n",
       "      <th>tweet_length</th>\n",
       "    </tr>\n",
       "  </thead>\n",
       "  <tbody>\n",
       "    <tr>\n",
       "      <th>0</th>\n",
       "      <td>3</td>\n",
       "      <td>0</td>\n",
       "      <td>0</td>\n",
       "      <td>3</td>\n",
       "      <td>2</td>\n",
       "      <td>!!! RT @mayasolovely: As a woman you shouldn't...</td>\n",
       "      <td>140</td>\n",
       "    </tr>\n",
       "    <tr>\n",
       "      <th>1</th>\n",
       "      <td>3</td>\n",
       "      <td>0</td>\n",
       "      <td>3</td>\n",
       "      <td>0</td>\n",
       "      <td>1</td>\n",
       "      <td>!!!!! RT @mleew17: boy dats cold...tyga dwn ba...</td>\n",
       "      <td>85</td>\n",
       "    </tr>\n",
       "    <tr>\n",
       "      <th>2</th>\n",
       "      <td>3</td>\n",
       "      <td>0</td>\n",
       "      <td>3</td>\n",
       "      <td>0</td>\n",
       "      <td>1</td>\n",
       "      <td>!!!!!!! RT @UrKindOfBrand Dawg!!!! RT @80sbaby...</td>\n",
       "      <td>120</td>\n",
       "    </tr>\n",
       "    <tr>\n",
       "      <th>3</th>\n",
       "      <td>3</td>\n",
       "      <td>0</td>\n",
       "      <td>2</td>\n",
       "      <td>1</td>\n",
       "      <td>1</td>\n",
       "      <td>!!!!!!!!! RT @C_G_Anderson: @viva_based she lo...</td>\n",
       "      <td>62</td>\n",
       "    </tr>\n",
       "    <tr>\n",
       "      <th>4</th>\n",
       "      <td>6</td>\n",
       "      <td>0</td>\n",
       "      <td>6</td>\n",
       "      <td>0</td>\n",
       "      <td>1</td>\n",
       "      <td>!!!!!!!!!!!!! RT @ShenikaRoberts: The shit you...</td>\n",
       "      <td>137</td>\n",
       "    </tr>\n",
       "  </tbody>\n",
       "</table>\n",
       "</div>"
      ],
      "text/plain": [
       "   count  hate_speech_count  offensive_language_count  neither_count  class  \\\n",
       "0      3                  0                         0              3      2   \n",
       "1      3                  0                         3              0      1   \n",
       "2      3                  0                         3              0      1   \n",
       "3      3                  0                         2              1      1   \n",
       "4      6                  0                         6              0      1   \n",
       "\n",
       "                                               tweet  tweet_length  \n",
       "0  !!! RT @mayasolovely: As a woman you shouldn't...           140  \n",
       "1  !!!!! RT @mleew17: boy dats cold...tyga dwn ba...            85  \n",
       "2  !!!!!!! RT @UrKindOfBrand Dawg!!!! RT @80sbaby...           120  \n",
       "3  !!!!!!!!! RT @C_G_Anderson: @viva_based she lo...            62  \n",
       "4  !!!!!!!!!!!!! RT @ShenikaRoberts: The shit you...           137  "
      ]
     },
     "execution_count": 114,
     "metadata": {},
     "output_type": "execute_result"
    }
   ],
   "source": [
    "# Adding a column for tweet length\n",
    "train_df['tweet_length'] = train_df['tweet'].apply(len)\n",
    "train_df.head()"
   ]
  },
  {
   "cell_type": "code",
   "execution_count": 115,
   "metadata": {},
   "outputs": [
    {
     "data": {
      "image/png": "[encoded data removed]",
      "text/plain": [
       "<Figure size 720x432 with 1 Axes>"
      ]
     },
     "metadata": {
      "needs_background": "light"
     },
     "output_type": "display_data"
    }
   ],
   "source": [
    "# Plotting the distribution of tweet length\n",
    "plt.figure(figsize=(10, 6))\n",
    "sns.histplot(data=train_df, x='tweet_length', bins=30, kde=True, color=\"purple\", hue='class')\n",
    "plt.title(\"Distribution of Tweet Length\")\n",
    "plt.xlabel(\"Tweet Length (characters)\")\n",
    "plt.ylabel(\"Frequency\")\n",
    "plt.show()"
   ]
  },
  {
   "cell_type": "markdown",
   "metadata": {},
   "source": [
    "#### Interpretation\n",
    "The tweet_length distribution provides insights into the character length of tweets in the dataset. The dataset includes tweets of varying lengths, measured in characters. Common lengths fall between having 62 and 140 characters, with an upper limit typical for tweet character limits.\n",
    "The histogram shows a slightly right-skewed distribution, with a high frequency of tweets clustered at shorter lengths, while longer tweets are less frequent. The KDE curve highlights the peak in the shorter length range, indicating that most tweets are relatively brief.\n",
    "This distribution suggests that the tweets are generally short, with fewer tweets reaching the higher character limits."
   ]
  },
  {
   "cell_type": "markdown",
   "metadata": {},
   "source": [
    "### ii) Bivariate analysis"
   ]
  },
  {
   "cell_type": "markdown",
   "metadata": {},
   "source": [
    "### a) Class vs. Hate speech count\n",
    "This examines how hate_speech_count varies across different classes."
   ]
  },
  {
   "cell_type": "code",
   "execution_count": 116,
   "metadata": {},
   "outputs": [
    {
     "name": "stdout",
     "output_type": "stream",
     "text": [
      "         count      mean       std  min  25%  50%  75%  max\n",
      "class                                                      \n",
      "0       1430.0  2.256643  0.573994  2.0  2.0  2.0  2.0  7.0\n",
      "1      19190.0  0.180459  0.407220  0.0  0.0  0.0  0.0  4.0\n",
      "2       4163.0  0.062935  0.253524  0.0  0.0  0.0  0.0  3.0\n"
     ]
    }
   ],
   "source": [
    "# Display summary statistics of hate_speech_count across each class\n",
    "hate_speech_stats = train_df.groupby('class')['hate_speech_count'].describe()\n",
    "print(hate_speech_stats)"
   ]
  },
  {
   "cell_type": "code",
   "execution_count": 117,
   "metadata": {},
   "outputs": [
    {
     "data": {
      "image/png": "[encoded data removed]",
      "text/plain": [
       "<Figure size 576x360 with 1 Axes>"
      ]
     },
     "metadata": {
      "needs_background": "light"
     },
     "output_type": "display_data"
    }
   ],
   "source": [
    "# Plotting hate speech count across classes\n",
    "plt.figure(figsize=(8, 5))\n",
    "sns.boxplot(data=train_df, x='class', y='hate_speech_count', palette='coolwarm')\n",
    "plt.title(\"Hate Speech Count across Classes\")\n",
    "plt.xlabel(\"Class\")\n",
    "plt.ylabel(\"Hate Speech Count\")\n",
    "plt.show()"
   ]
  },
  {
   "cell_type": "markdown",
   "metadata": {},
   "source": [
    "#### Interpretation\n",
    "The summary statistics reveal distinct distributions of hate speech counts across the tweet classes. Class 0 (Hate Speech) has an average hate speech count of 2.26 with a maximum of 7 counts, indicating that these tweets frequently contain hate speech. In contrast, Class 1 (Offensive Language) has a low average count with a maximum of 4 and Class 2 (Neutral) shows an even lower count with a maximum of 3. The boxplot visualizes this disparity, highlighting that Class 0 tweets are significantly more likely to include hate speech compared to the other two classes, suggesting a notable behavioral pattern in the classification of hate speech within the dataset."
   ]
  },
  {
   "cell_type": "markdown",
   "metadata": {},
   "source": [
    "### b) Class vs. Offensive language count\n",
    "This compares offensive_language_count across different classes. This helps determine if offensive language counts are more frequent in certain classes."
   ]
  },
  {
   "cell_type": "code",
   "execution_count": 118,
   "metadata": {},
   "outputs": [
    {
     "name": "stdout",
     "output_type": "stream",
     "text": [
      "         count      mean       std  min  25%  50%  75%  max\n",
      "class                                                      \n",
      "0       1430.0  0.755944  0.487653  0.0  0.0  1.0  1.0  4.0\n",
      "1      19190.0  3.003544  0.954097  2.0  3.0  3.0  3.0  9.0\n",
      "2       4163.0  0.264233  0.461737  0.0  0.0  0.0  1.0  4.0\n"
     ]
    }
   ],
   "source": [
    "# Summary statistics of offensive_language_count across each class\n",
    "offensive_language_stats = train_df.groupby('class')['offensive_language_count'].describe()\n",
    "print(offensive_language_stats)"
   ]
  },
  {
   "cell_type": "code",
   "execution_count": 119,
   "metadata": {},
   "outputs": [
    {
     "data": {
      "image/png": "[encoded data removed]",
      "text/plain": [
       "<Figure size 576x360 with 1 Axes>"
      ]
     },
     "metadata": {
      "needs_background": "light"
     },
     "output_type": "display_data"
    }
   ],
   "source": [
    "# Plotting offensive language count across classes\n",
    "plt.figure(figsize=(8, 5))\n",
    "sns.boxplot(data=train_df, x='class', y='offensive_language_count', palette='coolwarm')\n",
    "plt.title(\"Offensive Language Count across Classes\")\n",
    "plt.xlabel(\"Class\")\n",
    "plt.ylabel(\"Offensive Language Count\")\n",
    "plt.show()"
   ]
  },
  {
   "cell_type": "markdown",
   "metadata": {},
   "source": [
    "#### Interpretation\n",
    "The summary statistics reveal significant differences in offensive language counts across tweet classes. Class 1 (Offensive Language) has a high average offensive language count of 3.00 wit a maximum of 9 counts, indicating frequent use of offensive language. In contrast, Class 0 (Hate Speech) shows a lower average of 0.76 with a maximum count of 4, reflecting occasional offensive language, while Class 2 (Neutral) has the lowest average at 0.26 with a maximum of 4 counts, with many tweets containing no offensive language at all. The boxplot illustrates that Class 1 tweets are predominantly offensive, confirming that the classification aligns closely with the content of the tweets and highlighting a clear behavioral pattern in offensive language usage across the categories."
   ]
  },
  {
   "cell_type": "markdown",
   "metadata": {},
   "source": [
    "### c) Class vs. Neither_count\n",
    "This examines how often the neither_count attribute appears across each class. This shows the distribution of non-hate and non-offensive tweets across classes.\n"
   ]
  },
  {
   "cell_type": "code",
   "execution_count": 120,
   "metadata": {},
   "outputs": [
    {
     "name": "stdout",
     "output_type": "stream",
     "text": [
      "         count      mean       std  min  25%  50%  75%  max\n",
      "class                                                      \n",
      "0       1430.0  0.095804  0.326007  0.0  0.0  0.0  0.0  4.0\n",
      "1      19190.0  0.084888  0.284093  0.0  0.0  0.0  0.0  3.0\n",
      "2       4163.0  2.845544  0.795181  2.0  2.0  3.0  3.0  9.0\n"
     ]
    }
   ],
   "source": [
    "# Summary statistics of neither_count across each class\n",
    "neither_count_stats = train_df.groupby('class')['neither_count'].describe()\n",
    "print(neither_count_stats)"
   ]
  },
  {
   "cell_type": "code",
   "execution_count": 121,
   "metadata": {},
   "outputs": [
    {
     "data": {
      "image/png": "[encoded data removed]",
      "text/plain": [
       "<Figure size 576x360 with 1 Axes>"
      ]
     },
     "metadata": {
      "needs_background": "light"
     },
     "output_type": "display_data"
    }
   ],
   "source": [
    "# Plotting neither count across classes\n",
    "plt.figure(figsize=(8, 5))\n",
    "sns.boxplot(data=train_df, x='class', y='neither_count', palette='viridis')\n",
    "plt.title(\"Neither Count across Classes\")\n",
    "plt.xlabel(\"Class\")\n",
    "plt.ylabel(\"Neither Count\")\n",
    "plt.show()\n"
   ]
  },
  {
   "cell_type": "markdown",
   "metadata": {},
   "source": [
    "#### Interpretation\n",
    "This analysis reveals significant differences in how tweets are classified based on the presence of neutral language. Class 2 tweets have a markedly higher mean \"neither_count\" of 2.846, with a range from 2 to 9, indicating that these tweets predominantly contain neutral language. In contrast, Classes 0 and 1, which represent hate speech and offensive language, have much lower means of 0.096 and 0.085, respectively, and mostly exhibit counts near zero, suggesting that these tweets rarely include neutral content. The higher variability in Class 2, alongside the near absence of neutral language in the other classes, highlights the distinct linguistic characteristics that differentiate hate speech and offensive language from neutral expressions in tweets."
   ]
  },
  {
   "cell_type": "markdown",
   "metadata": {},
   "source": [
    "### d) Class vs. Count\n",
    "This examines how the total count, i.e sum of all labels, is distributed across different classes. It reveals if there’s a class where the total count of labels (hate speech + offensive language + neither) is consistently higher or lower."
   ]
  },
  {
   "cell_type": "code",
   "execution_count": 122,
   "metadata": {},
   "outputs": [
    {
     "name": "stdout",
     "output_type": "stream",
     "text": [
      "         count      mean       std  min  25%  50%  75%  max\n",
      "class                                                      \n",
      "0       1430.0  3.108392  0.648084  3.0  3.0  3.0  3.0  9.0\n",
      "1      19190.0  3.268890  0.923024  3.0  3.0  3.0  3.0  9.0\n",
      "2       4163.0  3.172712  0.746097  3.0  3.0  3.0  3.0  9.0\n"
     ]
    }
   ],
   "source": [
    "# Summary statistics of total_count across each class\n",
    "total_count_stats = train_df.groupby('class')['count'].describe()\n",
    "print(total_count_stats)"
   ]
  },
  {
   "cell_type": "code",
   "execution_count": 123,
   "metadata": {},
   "outputs": [
    {
     "data": {
      "image/png": "[encoded data removed]",
      "text/plain": [
       "<Figure size 576x360 with 1 Axes>"
      ]
     },
     "metadata": {
      "needs_background": "light"
     },
     "output_type": "display_data"
    }
   ],
   "source": [
    "# Plotting total count across classes\n",
    "plt.figure(figsize=(8, 5))\n",
    "sns.boxplot(data=train_df, x='class', y='count', palette='cubehelix')\n",
    "plt.title(\"Total Count across Classes\")\n",
    "plt.xlabel(\"Class\")\n",
    "plt.ylabel(\"Total Count\")\n",
    "plt.show()\n",
    " "
   ]
  },
  {
   "cell_type": "markdown",
   "metadata": {},
   "source": [
    "#### Interpretation\n",
    "The analysis of count across classes shows a consistent average of approximately 3 for all categories (Neutral, Offensive Language, Hate Speech), with minimal variation. Each class has a narrow distribution centered around a median of 3, with occasional outliers reaching up to 9. The boxplot further highlights this uniform distribution, indicating that tweet volume (as measured by count) is relatively consistent across tweet categories. This suggests that the frequency or activity level of tweets is not a distinguishing factor between classes, implying that content type rather than count may be the more significant factor in classifying tweets.\n"
   ]
  },
  {
   "cell_type": "markdown",
   "metadata": {},
   "source": [
    "### e) Class vs. tweet_length\n",
    "This shows the distribution of tweet_length across each class. It helps determine if certain classes contain significantly longer or shorter tweets.\n"
   ]
  },
  {
   "cell_type": "code",
   "execution_count": 124,
   "metadata": {},
   "outputs": [
    {
     "name": "stdout",
     "output_type": "stream",
     "text": [
      "         count       mean        std  min   25%   50%    75%    max\n",
      "class                                                              \n",
      "0       1430.0  84.586713  40.513212  5.0  49.0  82.0  121.0  254.0\n",
      "1      19190.0  83.457113  41.453747  5.0  50.0  78.0  115.0  754.0\n",
      "2       4163.0  94.850108  41.054325  7.0  60.0  97.0  132.0  522.0\n"
     ]
    }
   ],
   "source": [
    "# Summary statistics of tweet_length across each class\n",
    "tweet_length_stats = train_df.groupby('class')['tweet_length'].describe()\n",
    "print(tweet_length_stats)"
   ]
  },
  {
   "cell_type": "code",
   "execution_count": 125,
   "metadata": {},
   "outputs": [
    {
     "data": {
      "image/png": "[encoded data removed]",
      "text/plain": [
       "<Figure size 576x360 with 1 Axes>"
      ]
     },
     "metadata": {
      "needs_background": "light"
     },
     "output_type": "display_data"
    }
   ],
   "source": [
    "# Plotting tweet length across classes\n",
    "plt.figure(figsize=(8, 5))\n",
    "sns.boxplot(data=train_df, x='class', y='tweet_length', palette='crest')\n",
    "plt.title(\"Tweet Length across Classes\")\n",
    "plt.xlabel(\"Class\")\n",
    "plt.ylabel(\"Tweet Length (characters)\")\n",
    "plt.show()"
   ]
  },
  {
   "cell_type": "markdown",
   "metadata": {},
   "source": [
    "#### Interpretation\n",
    "The tweet_length analysis shows that tweets labeled as Neutral (Class 2) are generally longer, with a mean length of 95 characters and a median of 97, compared to Hate Speech (Class 0) and Offensive Language (Class 1) tweets, which average around 85 and 83 characters, respectively. Class 1 (Offensive Language) exhibits greater variability, with outliers extending up to 754 characters, while Class 0 and Class 2 tweets have maximum lengths of 254 and 522 characters. This suggests that neutral tweets tend to be longer overall, while offensive language tweets show the most diverse range of lengths."
   ]
  },
  {
   "cell_type": "markdown",
   "metadata": {},
   "source": [
    "### f) Hate speech count vs. Offensive language count\n",
    "Analyzing the relationship between hate_speech_count and offensive_language_count. It shows if there’s a correlation between hate speech and offensive language, especially by class.\n"
   ]
  },
  {
   "cell_type": "code",
   "execution_count": 126,
   "metadata": {},
   "outputs": [
    {
     "name": "stdout",
     "output_type": "stream",
     "text": [
      "Summary Statistics of Hate Speech and Offensive Language Counts by Class:\n",
      "      hate_speech_count                   offensive_language_count            \\\n",
      "                   mean       std min max                     mean       std   \n",
      "class                                                                          \n",
      "0              2.256643  0.573994   2   7                 0.755944  0.487653   \n",
      "1              0.180459  0.407220   0   4                 3.003544  0.954097   \n",
      "2              0.062935  0.253524   0   3                 0.264233  0.461737   \n",
      "\n",
      "               \n",
      "      min max  \n",
      "class          \n",
      "0       0   4  \n",
      "1       2   9  \n",
      "2       0   4  \n"
     ]
    }
   ],
   "source": [
    "# Grouping by class and calculating mean and standard deviation for hate_speech_count and offensive_language_count\n",
    "class_summary = train_df.groupby('class')[['hate_speech_count', 'offensive_language_count']].agg(['mean', 'std', 'min', 'max'])\n",
    "print(\"Summary Statistics of Hate Speech and Offensive Language Counts by Class:\")\n",
    "print(class_summary)"
   ]
  },
  {
   "cell_type": "code",
   "execution_count": 127,
   "metadata": {},
   "outputs": [
    {
     "name": "stdout",
     "output_type": "stream",
     "text": [
      "\n",
      "Correlation between Hate Speech Count and Offensive Language Count by Class:\n",
      "class\n",
      "0   -0.291085\n",
      "1   -0.231545\n",
      "2   -0.049730\n",
      "dtype: float64\n"
     ]
    }
   ],
   "source": [
    "# Calculating correlation between hate_speech_count and offensive_language_count for each class\n",
    "correlation_by_class = train_df.groupby('class').apply(lambda x: x['hate_speech_count'].corr(x['offensive_language_count']))\n",
    "print(\"\\nCorrelation between Hate Speech Count and Offensive Language Count by Class:\")\n",
    "print(correlation_by_class)"
   ]
  },
  {
   "cell_type": "code",
   "execution_count": 128,
   "metadata": {},
   "outputs": [
    {
     "data": {
      "image/png": "[encoded data removed]",
      "text/plain": [
       "<Figure size 576x360 with 1 Axes>"
      ]
     },
     "metadata": {
      "needs_background": "light"
     },
     "output_type": "display_data"
    }
   ],
   "source": [
    "\n",
    "# Scatter plot between hate speech count and offensive language count\n",
    "plt.figure(figsize=(8, 5))\n",
    "sns.scatterplot(data=train_df, x='hate_speech_count', y='offensive_language_count', hue='class', palette='tab10')\n",
    "plt.title(\"Hate Speech Count vs. Offensive Language Count\")\n",
    "plt.xlabel(\"Hate Speech Count\")\n",
    "plt.ylabel(\"Offensive Language Count\")\n",
    "plt.show()"
   ]
  },
  {
   "cell_type": "markdown",
   "metadata": {},
   "source": [
    "#### Interpretation\n",
    "Across different classes, the relationship between hate speech count and offensive language count shows distinct patterns. Class 0 (hate speech) has the highest average hate speech count (mean of 2.26) but a lower offensive language count with a mean of 0.76. This class displays a moderate inverse correlation (-0.29), suggesting that as hate speech increases, offensive language tends to decrease somewhat. In Class 1 (offensive language), hate speech occurrences are minimal (mean of 0.18), while offensive language is more prevalent (mean of 3.00), with a weaker inverse correlation (-0.23), indicating only a slight tendency for offensive language and hate speech not to occur together. Class 2 (neutral) has the lowest averages for both counts (hate speech mean of 0.06 and offensive language mean of 0.26), with almost no correlation (-0.05), suggesting that hate speech and offensive language rarely co-occur in neutral tweets."
   ]
  },
  {
   "cell_type": "markdown",
   "metadata": {},
   "source": [
    "### g)Hate speech count vs. Neither count\n",
    "This examines the relationship between hate_speech_count and neither_count. It reveal if tweets marked with high hate_speech_count tend to have lower neither_count values."
   ]
  },
  {
   "cell_type": "code",
   "execution_count": 129,
   "metadata": {},
   "outputs": [
    {
     "name": "stdout",
     "output_type": "stream",
     "text": [
      "Summary Statistics of Hate Speech and Neither Counts by Class:\n",
      "      hate_speech_count                   neither_count                  \n",
      "                   mean       std min max          mean       std min max\n",
      "class                                                                    \n",
      "0              2.256643  0.573994   2   7      0.095804  0.326007   0   4\n",
      "1              0.180459  0.407220   0   4      0.084888  0.284093   0   3\n",
      "2              0.062935  0.253524   0   3      2.845544  0.795181   2   9\n"
     ]
    }
   ],
   "source": [
    "# Grouping by class and calculating mean and standard deviation for hate_speech_count and neither_count'\n",
    "class_summary = train_df.groupby('class')[['hate_speech_count', 'neither_count']].agg(['mean', 'std', 'min', 'max'])\n",
    "print(\"Summary Statistics of Hate Speech and Neither Counts by Class:\")\n",
    "print(class_summary)"
   ]
  },
  {
   "cell_type": "code",
   "execution_count": 130,
   "metadata": {},
   "outputs": [
    {
     "name": "stdout",
     "output_type": "stream",
     "text": [
      "\n",
      "Correlation between Hate Speech Count and Neither Count by Class:\n",
      "class\n",
      "0    0.059236\n",
      "1   -0.081969\n",
      "2   -0.132927\n",
      "dtype: float64\n"
     ]
    }
   ],
   "source": [
    "# Calculating correlation between hate_speech_count and neither_count for each class\n",
    "correlation_by_class = train_df.groupby('class').apply(lambda x: x['hate_speech_count'].corr(x['neither_count']))\n",
    "print(\"\\nCorrelation between Hate Speech Count and Neither Count by Class:\")\n",
    "print(correlation_by_class)"
   ]
  },
  {
   "cell_type": "code",
   "execution_count": 131,
   "metadata": {},
   "outputs": [
    {
     "data": {
      "image/png": "[encoded data removed]",
      "text/plain": [
       "<Figure size 576x360 with 1 Axes>"
      ]
     },
     "metadata": {
      "needs_background": "light"
     },
     "output_type": "display_data"
    }
   ],
   "source": [
    "# Scatter plot between hate speech count and neither count\n",
    "plt.figure(figsize=(8, 5))\n",
    "sns.scatterplot(data=train_df, x='hate_speech_count', y='neither_count', hue='class', palette='plasma')\n",
    "plt.title(\"Hate Speech Count vs. Neither Count\")\n",
    "plt.xlabel(\"Hate Speech Count\")\n",
    "plt.ylabel(\"Neither Count\")\n",
    "plt.show()"
   ]
  },
  {
   "cell_type": "markdown",
   "metadata": {},
   "source": [
    "#### Interpretation\n",
    "The relationship between hate speech count and neither count varies by class, with unique trends in mean values and correlations. In Class 0, hate_speech_count has a higher mean of 2.26, while neither_count has a low mean of 0.10, with a slight positive but low correlation of 0.059, indicating a negligible relationship. Class 1 shows a minimal hate_speech_count mean of 0.18 and a similarly low neither_count mean of 0.08, with a weak negative correlation (-0.082), suggesting a mild inverse relationship. Class 2 displays the highest neither_count mean of 2.85 and the lowest hate_speech_count mean of 0.06, with a slightly stronger negative correlation 0.133, showing that as hate speech decreases, neither count tends to increase somewhat. These distinctions highlight that hate speech and neither labels are weakly correlated across classes but are still relevant in understanding class differences"
   ]
  },
  {
   "cell_type": "markdown",
   "metadata": {},
   "source": [
    "### h) Offensive language count vs. Neither count\n",
    "This explores if there's any inverse relationship between offensive_language_count and neither_count. If there’s a relationship, we might find that tweets with higher offensive language counts have lower neither_count values."
   ]
  },
  {
   "cell_type": "code",
   "execution_count": 132,
   "metadata": {},
   "outputs": [
    {
     "name": "stdout",
     "output_type": "stream",
     "text": [
      "Summary Statistics of Offensive language and Neither Counts by Class:\n",
      "      offensive_language_count                   neither_count                \\\n",
      "                          mean       std min max          mean       std min   \n",
      "class                                                                          \n",
      "0                     0.755944  0.487653   0   4      0.095804  0.326007   0   \n",
      "1                     3.003544  0.954097   2   9      0.084888  0.284093   0   \n",
      "2                     0.264233  0.461737   0   4      2.845544  0.795181   2   \n",
      "\n",
      "           \n",
      "      max  \n",
      "class      \n",
      "0       4  \n",
      "1       3  \n",
      "2       9  \n"
     ]
    }
   ],
   "source": [
    "# Grouping by class and calculating mean and standard deviation for offensive_language_count and neither_count'\n",
    "class_summary = train_df.groupby('class')[['offensive_language_count', 'neither_count']].agg(['mean', 'std', 'min', 'max'])\n",
    "print(\"Summary Statistics of Offensive language and Neither Counts by Class:\")\n",
    "print(class_summary)"
   ]
  },
  {
   "cell_type": "code",
   "execution_count": 133,
   "metadata": {},
   "outputs": [
    {
     "name": "stdout",
     "output_type": "stream",
     "text": [
      "\n",
      "Correlation between Hate Offensive language and Neither Count by Class:\n",
      "class\n",
      "0   -0.354628\n",
      "1   -0.195488\n",
      "2   -0.392044\n",
      "dtype: float64\n"
     ]
    }
   ],
   "source": [
    "# Calculating correlation between hate_speech_count and neither_count for each class\n",
    "correlation_by_class = train_df.groupby('class').apply(lambda x: x['offensive_language_count'].corr(x['neither_count']))\n",
    "print(\"\\nCorrelation between Hate Offensive language and Neither Count by Class:\")\n",
    "print(correlation_by_class)"
   ]
  },
  {
   "cell_type": "code",
   "execution_count": 134,
   "metadata": {},
   "outputs": [
    {
     "data": {
      "image/png": "[encoded data removed]",
      "text/plain": [
       "<Figure size 576x360 with 1 Axes>"
      ]
     },
     "metadata": {
      "needs_background": "light"
     },
     "output_type": "display_data"
    }
   ],
   "source": [
    "# Scatter plot between offensive language count and neither count\n",
    "plt.figure(figsize=(8, 5))\n",
    "sns.scatterplot(data=train_df, x='offensive_language_count', y='neither_count', hue='class', palette='inferno')\n",
    "plt.title(\"Offensive Language Count vs. Neither Count\")\n",
    "plt.xlabel(\"Offensive Language Count\")\n",
    "plt.ylabel(\"Neither Count\")\n",
    "plt.show()"
   ]
  },
  {
   "cell_type": "markdown",
   "metadata": {},
   "source": [
    "#### Interpretation\n",
    "\n",
    "The analysis of the dataset reveals distinct linguistic characteristics across the three classes of tweets: Class 0 (Hate Speech), Class 1 (Offensive Language), and Class 2 (Neither). Class 0 has a mean offensive language count of 0.756 and a minimal neither count of 0.096, while Class 1 shows a significantly higher offensive language mean of 3.004 and a similarly low neither count of 0.085. In contrast, Class 2 features a low offensive language mean of 0.264 alongside a high neither count of 2.846, indicating that these tweets predominantly contain neutral language. Correlation analysis indicates negative relationships between offensive language and neither counts across all classes, with Class 2 exhibiting the strongest correlation at -0.392, although it is generally a weak correlation. The scatter plot further illustrates that tweets classified as hate speech and offensive language are characterized by low neutral language, whereas those classified as neither predominantly feature neutral expressions. "
   ]
  },
  {
   "cell_type": "markdown",
   "metadata": {},
   "source": [
    "### iii) Multivariate analysis\n",
    "This analysis examines the relationship between all the features in the datset with each other."
   ]
  },
  {
   "cell_type": "code",
   "execution_count": 135,
   "metadata": {},
   "outputs": [
    {
     "data": {
      "text/html": [
       "<div>\n",
       "<style scoped>\n",
       "    .dataframe tbody tr th:only-of-type {\n",
       "        vertical-align: middle;\n",
       "    }\n",
       "\n",
       "    .dataframe tbody tr th {\n",
       "        vertical-align: top;\n",
       "    }\n",
       "\n",
       "    .dataframe thead th {\n",
       "        text-align: right;\n",
       "    }\n",
       "</style>\n",
       "<table border=\"1\" class=\"dataframe\">\n",
       "  <thead>\n",
       "    <tr style=\"text-align: right;\">\n",
       "      <th></th>\n",
       "      <th>count</th>\n",
       "      <th>hate_speech_count</th>\n",
       "      <th>offensive_language_count</th>\n",
       "      <th>neither_count</th>\n",
       "      <th>class</th>\n",
       "      <th>tweet_length</th>\n",
       "    </tr>\n",
       "  </thead>\n",
       "  <tbody>\n",
       "    <tr>\n",
       "      <th>count</th>\n",
       "      <td>1.000000</td>\n",
       "      <td>0.101926</td>\n",
       "      <td>0.534604</td>\n",
       "      <td>0.063326</td>\n",
       "      <td>-0.010029</td>\n",
       "      <td>-0.024360</td>\n",
       "    </tr>\n",
       "    <tr>\n",
       "      <th>hate_speech_count</th>\n",
       "      <td>0.101926</td>\n",
       "      <td>1.000000</td>\n",
       "      <td>-0.261808</td>\n",
       "      <td>-0.157599</td>\n",
       "      <td>-0.515732</td>\n",
       "      <td>-0.002182</td>\n",
       "    </tr>\n",
       "    <tr>\n",
       "      <th>offensive_language_count</th>\n",
       "      <td>0.534604</td>\n",
       "      <td>-0.261808</td>\n",
       "      <td>1.000000</td>\n",
       "      <td>-0.684406</td>\n",
       "      <td>-0.410440</td>\n",
       "      <td>-0.093996</td>\n",
       "    </tr>\n",
       "    <tr>\n",
       "      <th>neither_count</th>\n",
       "      <td>0.063326</td>\n",
       "      <td>-0.157599</td>\n",
       "      <td>-0.684406</td>\n",
       "      <td>1.000000</td>\n",
       "      <td>0.800687</td>\n",
       "      <td>0.100073</td>\n",
       "    </tr>\n",
       "    <tr>\n",
       "      <th>class</th>\n",
       "      <td>-0.010029</td>\n",
       "      <td>-0.515732</td>\n",
       "      <td>-0.410440</td>\n",
       "      <td>0.800687</td>\n",
       "      <td>1.000000</td>\n",
       "      <td>0.084923</td>\n",
       "    </tr>\n",
       "    <tr>\n",
       "      <th>tweet_length</th>\n",
       "      <td>-0.024360</td>\n",
       "      <td>-0.002182</td>\n",
       "      <td>-0.093996</td>\n",
       "      <td>0.100073</td>\n",
       "      <td>0.084923</td>\n",
       "      <td>1.000000</td>\n",
       "    </tr>\n",
       "  </tbody>\n",
       "</table>\n",
       "</div>"
      ],
      "text/plain": [
       "                             count  hate_speech_count  \\\n",
       "count                     1.000000           0.101926   \n",
       "hate_speech_count         0.101926           1.000000   \n",
       "offensive_language_count  0.534604          -0.261808   \n",
       "neither_count             0.063326          -0.157599   \n",
       "class                    -0.010029          -0.515732   \n",
       "tweet_length             -0.024360          -0.002182   \n",
       "\n",
       "                          offensive_language_count  neither_count     class  \\\n",
       "count                                     0.534604       0.063326 -0.010029   \n",
       "hate_speech_count                        -0.261808      -0.157599 -0.515732   \n",
       "offensive_language_count                  1.000000      -0.684406 -0.410440   \n",
       "neither_count                            -0.684406       1.000000  0.800687   \n",
       "class                                    -0.410440       0.800687  1.000000   \n",
       "tweet_length                             -0.093996       0.100073  0.084923   \n",
       "\n",
       "                          tweet_length  \n",
       "count                        -0.024360  \n",
       "hate_speech_count            -0.002182  \n",
       "offensive_language_count     -0.093996  \n",
       "neither_count                 0.100073  \n",
       "class                         0.084923  \n",
       "tweet_length                  1.000000  "
      ]
     },
     "execution_count": 135,
     "metadata": {},
     "output_type": "execute_result"
    }
   ],
   "source": [
    "train_df.corr()"
   ]
  },
  {
   "cell_type": "code",
   "execution_count": 136,
   "metadata": {},
   "outputs": [
    {
     "data": {
      "image/png": "[encoded data removed]",
      "text/plain": [
       "<Figure size 720x576 with 2 Axes>"
      ]
     },
     "metadata": {
      "needs_background": "light"
     },
     "output_type": "display_data"
    }
   ],
   "source": [
    "# Plotting the correlation heatmap\n",
    "plt.figure(figsize=(10, 8))\n",
    "sns.heatmap(train_df.corr(), annot=True, cmap=\"coolwarm\", fmt=\".2f\")\n",
    "plt.title(\"Correlation Heatmap of Numerical Features\")\n",
    "plt.show()"
   ]
  },
  {
   "cell_type": "markdown",
   "metadata": {},
   "source": [
    "#### Interpretation\n",
    "There is a moderate weak negative correlation of -0.26 between hate_speech_count and offensive_language_count, suggesting that tweets with higher hate speech counts may have fewer offensive language counts. Additionally, hate_speech_count moderately negatively correlates with class with a correlation of -0.52, indicating that higher hate speech counts are associated with lower class labels. Conversely, offensive_language_count has a significant negative correlation with neither_count (-0.68), implying that tweets classified as offensive tend to have fewer instances of neither hate speech nor offensive language. A strong positive correlation exists between neither_count and class (0.80), highlighting that tweets labeled as neither tend to belong to higher class labels, indicating less toxicity. Overall, the findings emphasize the inverse relationships between hate speech and offensive language with class labels"
   ]
  },
  {
   "cell_type": "markdown",
   "metadata": {},
   "source": [
    "### ii) Data Cleaning\n",
    "For this section we will clean the dataset of any duplicates, missing values and outliers."
   ]
  },
  {
   "cell_type": "markdown",
   "metadata": {},
   "source": [
    "#### i. Duplicates"
   ]
  },
  {
   "cell_type": "code",
   "execution_count": 137,
   "metadata": {},
   "outputs": [
    {
     "data": {
      "text/plain": [
       "False"
      ]
     },
     "execution_count": 137,
     "metadata": {},
     "output_type": "execute_result"
    }
   ],
   "source": [
    "#Check for duplicates\n",
    "train_df.duplicated().any()"
   ]
  },
  {
   "cell_type": "code",
   "execution_count": 138,
   "metadata": {},
   "outputs": [
    {
     "name": "stdout",
     "output_type": "stream",
     "text": [
      "From the above, we can conclude that our dataset has no duplicated values\n"
     ]
    }
   ],
   "source": [
    "print(\"\"\"From the above, we can conclude that our dataset has no duplicated values\"\"\")"
   ]
  },
  {
   "cell_type": "markdown",
   "metadata": {},
   "source": [
    "#### ii. Missing values"
   ]
  },
  {
   "cell_type": "code",
   "execution_count": 139,
   "metadata": {},
   "outputs": [
    {
     "data": {
      "text/plain": [
       "count                       False\n",
       "hate_speech_count           False\n",
       "offensive_language_count    False\n",
       "neither_count               False\n",
       "class                       False\n",
       "tweet                       False\n",
       "tweet_length                False\n",
       "dtype: bool"
      ]
     },
     "execution_count": 139,
     "metadata": {},
     "output_type": "execute_result"
    }
   ],
   "source": [
    "#Check for missing values\n",
    "train_df.isna().any()"
   ]
  },
  {
   "cell_type": "code",
   "execution_count": 140,
   "metadata": {},
   "outputs": [
    {
     "name": "stdout",
     "output_type": "stream",
     "text": [
      "Based on the above, we can conclude that our dataset has no missing values\n"
     ]
    }
   ],
   "source": [
    "print(\"\"\"Based on the above, we can conclude that our dataset has no missing values\"\"\")"
   ]
  },
  {
   "cell_type": "code",
   "execution_count": 141,
   "metadata": {},
   "outputs": [
    {
     "data": {
      "text/plain": [
       "(24783, 7)"
      ]
     },
     "execution_count": 141,
     "metadata": {},
     "output_type": "execute_result"
    }
   ],
   "source": [
    "train_df.shape"
   ]
  },
  {
   "cell_type": "markdown",
   "metadata": {},
   "source": [
    "## Text Preprocessing"
   ]
  },
  {
   "cell_type": "code",
   "execution_count": 142,
   "metadata": {},
   "outputs": [
    {
     "name": "stdout",
     "output_type": "stream",
     "text": [
      "Requirement already satisfied: contractions in c:\\users\\user\\anaconda3\\envs\\learn-env\\lib\\site-packages (0.1.73)\n",
      "Requirement already satisfied: textsearch>=0.0.21 in c:\\users\\user\\anaconda3\\envs\\learn-env\\lib\\site-packages (from contractions) (0.0.24)\n",
      "Requirement already satisfied: anyascii in c:\\users\\user\\anaconda3\\envs\\learn-env\\lib\\site-packages (from textsearch>=0.0.21->contractions) (0.3.2)\n",
      "Requirement already satisfied: pyahocorasick in c:\\users\\user\\anaconda3\\envs\\learn-env\\lib\\site-packages (from textsearch>=0.0.21->contractions) (2.1.0)\n"
     ]
    }
   ],
   "source": [
    "# !pip install textblob\n",
    "!pip install contractions"
   ]
  },
  {
   "cell_type": "code",
   "execution_count": 143,
   "metadata": {},
   "outputs": [
    {
     "name": "stdout",
     "output_type": "stream",
     "text": [
      "Requirement already satisfied: textblob in c:\\users\\user\\anaconda3\\envs\\learn-env\\lib\\site-packages (0.18.0.post0)\n",
      "Requirement already satisfied: nltk>=3.8 in c:\\users\\user\\anaconda3\\envs\\learn-env\\lib\\site-packages (from textblob) (3.9.1)\n",
      "Requirement already satisfied: tqdm in c:\\users\\user\\anaconda3\\envs\\learn-env\\lib\\site-packages (from nltk>=3.8->textblob) (4.66.6)\n",
      "Requirement already satisfied: joblib in c:\\users\\user\\anaconda3\\envs\\learn-env\\lib\\site-packages (from nltk>=3.8->textblob) (1.4.2)\n",
      "Requirement already satisfied: regex>=2021.8.3 in c:\\users\\user\\anaconda3\\envs\\learn-env\\lib\\site-packages (from nltk>=3.8->textblob) (2024.11.6)\n",
      "Requirement already satisfied: click in c:\\users\\user\\anaconda3\\envs\\learn-env\\lib\\site-packages (from nltk>=3.8->textblob) (8.1.7)\n",
      "Requirement already satisfied: colorama; platform_system == \"Windows\" in c:\\users\\user\\anaconda3\\envs\\learn-env\\lib\\site-packages (from tqdm->nltk>=3.8->textblob) (0.4.3)\n"
     ]
    }
   ],
   "source": [
    "!pip install textblob"
   ]
  },
  {
   "cell_type": "code",
   "execution_count": 144,
   "metadata": {},
   "outputs": [
    {
     "name": "stderr",
     "output_type": "stream",
     "text": [
      "[nltk_data] Downloading package stopwords to\n",
      "[nltk_data]     C:\\Users\\user\\AppData\\Roaming\\nltk_data...\n",
      "[nltk_data]   Package stopwords is already up-to-date!\n",
      "[nltk_data] Downloading package wordnet to\n",
      "[nltk_data]     C:\\Users\\user\\AppData\\Roaming\\nltk_data...\n",
      "[nltk_data]   Package wordnet is already up-to-date!\n",
      "[nltk_data] Downloading package averaged_perceptron_tagger to\n",
      "[nltk_data]     C:\\Users\\user\\AppData\\Roaming\\nltk_data...\n",
      "[nltk_data]   Package averaged_perceptron_tagger is already up-to-\n",
      "[nltk_data]       date!\n",
      "[nltk_data] Downloading package punkt to\n",
      "[nltk_data]     C:\\Users\\user\\AppData\\Roaming\\nltk_data...\n",
      "[nltk_data]   Package punkt is already up-to-date!\n"
     ]
    },
    {
     "data": {
      "text/plain": [
       "True"
      ]
     },
     "execution_count": 144,
     "metadata": {},
     "output_type": "execute_result"
    }
   ],
   "source": [
    "# Import relevant Libraries\n",
    "\n",
    "import re\n",
    "\n",
    "import contractions\n",
    "from textblob import TextBlob\n",
    "\n",
    "import nltk\n",
    "from nltk.corpus import stopwords\n",
    "from nltk.corpus import wordnet\n",
    "from nltk.stem import WordNetLemmatizer\n",
    "\n",
    "# Download NLTK resources\n",
    "nltk.download('stopwords')\n",
    "nltk.download('wordnet')\n",
    "\n",
    "nltk.download('averaged_perceptron_tagger')\n",
    "nltk.download('punkt')\n"
   ]
  },
  {
   "cell_type": "code",
   "execution_count": 145,
   "metadata": {},
   "outputs": [],
   "source": [
    "# stopwords\n",
    "\n",
    "# list of stop words to remove\n",
    "default_stop_words = set(stopwords.words('english'))\n",
    "\n",
    "# Define a list of important stop words to retain\n",
    "important_stop_words = {\"i\", \"you\", \"he\", \"she\", \"we\",  \"it\"}\n",
    "\n",
    "# Create a custom set of stop words that excludes the important ones\n",
    "custom_stop_words = default_stop_words - important_stop_words"
   ]
  },
  {
   "cell_type": "code",
   "execution_count": 146,
   "metadata": {},
   "outputs": [
    {
     "name": "stdout",
     "output_type": "stream",
     "text": [
      "{\"haven't\", 'its', \"weren't\", 'nor', 'these', 'more', 'doing', 'should', 'to', \"should've\", 'too', 'not', 'and', 'down', 'out', 'while', 'below', 'shouldn', 'am', 'our', \"aren't\", 'couldn', 'their', 'for', 'when', 'if', 'before', 'was', 'theirs', 'whom', \"mightn't\", 'then', \"shan't\", 'other', 're', 'few', \"you're\", 'were', 'during', 'under', \"needn't\", 'wasn', 'further', 'those', 'at', 'but', 'my', 'ours', 'again', 'that', 'd', \"you'd\", 'myself', 'than', 'same', 'yourself', 'yourselves', 'doesn', 'after', \"hasn't\", 'itself', 'her', 'now', 't', 'with', \"couldn't\", 'because', 'his', 'm', 'ma', \"wasn't\", 'ain', 'some', 'does', 'both', 'most', 'y', 'or', 'had', 've', 'own', \"she's\", \"won't\", 'will', 'your', \"mustn't\", 'mightn', 'isn', 'me', 'until', 'about', 'herself', 'what', 'themselves', 'in', 'no', 'very', 'over', 'been', 'himself', 'each', 'weren', 'off', 'against', 's', 'of', 'into', 'where', \"didn't\", 'the', \"you'll\", 'can', \"isn't\", 'just', 'won', 'this', 'here', 'hadn', 'an', \"that'll\", 'ourselves', 'hasn', 'who', 'is', 'as', 'be', 'any', 'wouldn', 'why', 'being', 'has', 'do', \"it's\", 'a', \"shouldn't\", \"wouldn't\", 'on', 'haven', 'having', 'above', 'll', \"doesn't\", \"don't\", \"hadn't\", 'yours', \"you've\", 'are', 'did', 'which', 'between', 'once', 'o', 'have', 'from', 'them', 'up', 'aren', 'needn', 'all', 'don', 'so', 'only', 'him', 'through', 'how', 'shan', 'such', 'mustn', 'by', 'didn', 'there', 'they', 'hers'}\n"
     ]
    }
   ],
   "source": [
    "# Show stopwords\n",
    "print(custom_stop_words)"
   ]
  },
  {
   "cell_type": "code",
   "execution_count": 176,
   "metadata": {},
   "outputs": [
    {
     "name": "stdout",
     "output_type": "stream",
     "text": [
      "nicely woman you hoe bitch ass nigga running\n"
     ]
    }
   ],
   "source": [
    "# Function to clean and preprocess the text\n",
    "def preprocess_text(text) -> str:\n",
    "\n",
    "    # Step 1: Lowercase\n",
    "    text = text.lower()\n",
    "\n",
    "    # Step 2: Remove mentions\n",
    "    text = re.sub(r'rt @\\w+: | @\\w+: | @\\w+ | @ \\w+', '', text)\n",
    "\n",
    "    # Step 3: Expand contractions\n",
    "    text = contractions.fix(text)\n",
    "\n",
    "    # remove stop words\n",
    "    text = ' '.join([word for word in text.split() if word not in custom_stop_words])\n",
    "\n",
    "    # Step 4: Remove html tags\n",
    "    text = re.sub(r'<.*?>', '', text)\n",
    "\n",
    "    # Step 5: Remove ellipses and unnecessary spaces\n",
    "    text = re.sub(r'\\.{2,}', ' ', text)  # Replace multiple dots with a single space \n",
    "    text = re.sub(r'\\s+', ' ', text).strip()  # Remove extra whitespace\n",
    "\n",
    "    # Step 6: Remove special characters (keeping only letters and spaces)\n",
    "    text = re.sub(r'[^a-zA-Z\\s]', '', text)\n",
    "\n",
    "    # Step 7: Remove HTML links\n",
    "    text = re.sub(r'http\\S+|www\\S+', '', text)\n",
    "\n",
    "    # Step 8: Replace elongated words (e.g., \"sooooo\" -> \"so\")\n",
    "    text = re.sub(r'(\\w+?)\\1{2,}', r'\\1\\1', text)  # Replace any character repeated more than twice\n",
    "\n",
    "    # Step 9: Remove possessives (e.g., \"ann's\" -> \"ann\")\n",
    "    text = re.sub(r\"\\b(\\w+)'s\\b\", r'\\1', text)\n",
    "\n",
    "    return text.strip()  # remove any leading/trailing spaces\n",
    "\n",
    "# Example usage\n",
    "text = \"!!! RT @mayasolovely: is a nicely woman you shouldn't hoe bitch ass nigga running...\"\n",
    "cleaned_text = preprocess_text(text)\n",
    "print(cleaned_text)\n"
   ]
  },
  {
   "cell_type": "code",
   "execution_count": 177,
   "metadata": {},
   "outputs": [
    {
     "data": {
      "text/html": [
       "<div>\n",
       "<style scoped>\n",
       "    .dataframe tbody tr th:only-of-type {\n",
       "        vertical-align: middle;\n",
       "    }\n",
       "\n",
       "    .dataframe tbody tr th {\n",
       "        vertical-align: top;\n",
       "    }\n",
       "\n",
       "    .dataframe thead th {\n",
       "        text-align: right;\n",
       "    }\n",
       "</style>\n",
       "<table border=\"1\" class=\"dataframe\">\n",
       "  <thead>\n",
       "    <tr style=\"text-align: right;\">\n",
       "      <th></th>\n",
       "      <th>count</th>\n",
       "      <th>hate_speech_count</th>\n",
       "      <th>offensive_language_count</th>\n",
       "      <th>neither_count</th>\n",
       "      <th>class</th>\n",
       "      <th>tweet</th>\n",
       "      <th>tweet_length</th>\n",
       "    </tr>\n",
       "  </thead>\n",
       "  <tbody>\n",
       "    <tr>\n",
       "      <th>0</th>\n",
       "      <td>3</td>\n",
       "      <td>0</td>\n",
       "      <td>0</td>\n",
       "      <td>3</td>\n",
       "      <td>2</td>\n",
       "      <td>!!! RT @mayasolovely: As a woman you shouldn't...</td>\n",
       "      <td>140</td>\n",
       "    </tr>\n",
       "    <tr>\n",
       "      <th>1</th>\n",
       "      <td>3</td>\n",
       "      <td>0</td>\n",
       "      <td>3</td>\n",
       "      <td>0</td>\n",
       "      <td>1</td>\n",
       "      <td>!!!!! RT @mleew17: boy dats cold...tyga dwn ba...</td>\n",
       "      <td>85</td>\n",
       "    </tr>\n",
       "    <tr>\n",
       "      <th>2</th>\n",
       "      <td>3</td>\n",
       "      <td>0</td>\n",
       "      <td>3</td>\n",
       "      <td>0</td>\n",
       "      <td>1</td>\n",
       "      <td>!!!!!!! RT @UrKindOfBrand Dawg!!!! RT @80sbaby...</td>\n",
       "      <td>120</td>\n",
       "    </tr>\n",
       "    <tr>\n",
       "      <th>3</th>\n",
       "      <td>3</td>\n",
       "      <td>0</td>\n",
       "      <td>2</td>\n",
       "      <td>1</td>\n",
       "      <td>1</td>\n",
       "      <td>!!!!!!!!! RT @C_G_Anderson: @viva_based she lo...</td>\n",
       "      <td>62</td>\n",
       "    </tr>\n",
       "    <tr>\n",
       "      <th>4</th>\n",
       "      <td>6</td>\n",
       "      <td>0</td>\n",
       "      <td>6</td>\n",
       "      <td>0</td>\n",
       "      <td>1</td>\n",
       "      <td>!!!!!!!!!!!!! RT @ShenikaRoberts: The shit you...</td>\n",
       "      <td>137</td>\n",
       "    </tr>\n",
       "    <tr>\n",
       "      <th>...</th>\n",
       "      <td>...</td>\n",
       "      <td>...</td>\n",
       "      <td>...</td>\n",
       "      <td>...</td>\n",
       "      <td>...</td>\n",
       "      <td>...</td>\n",
       "      <td>...</td>\n",
       "    </tr>\n",
       "    <tr>\n",
       "      <th>24778</th>\n",
       "      <td>3</td>\n",
       "      <td>0</td>\n",
       "      <td>2</td>\n",
       "      <td>1</td>\n",
       "      <td>1</td>\n",
       "      <td>you's a muthaf***in lie &amp;#8220;@LifeAsKing: @2...</td>\n",
       "      <td>146</td>\n",
       "    </tr>\n",
       "    <tr>\n",
       "      <th>24779</th>\n",
       "      <td>3</td>\n",
       "      <td>0</td>\n",
       "      <td>1</td>\n",
       "      <td>2</td>\n",
       "      <td>2</td>\n",
       "      <td>you've gone and broke the wrong heart baby, an...</td>\n",
       "      <td>70</td>\n",
       "    </tr>\n",
       "    <tr>\n",
       "      <th>24780</th>\n",
       "      <td>3</td>\n",
       "      <td>0</td>\n",
       "      <td>3</td>\n",
       "      <td>0</td>\n",
       "      <td>1</td>\n",
       "      <td>young buck wanna eat!!.. dat nigguh like I ain...</td>\n",
       "      <td>67</td>\n",
       "    </tr>\n",
       "    <tr>\n",
       "      <th>24781</th>\n",
       "      <td>6</td>\n",
       "      <td>0</td>\n",
       "      <td>6</td>\n",
       "      <td>0</td>\n",
       "      <td>1</td>\n",
       "      <td>youu got wild bitches tellin you lies</td>\n",
       "      <td>37</td>\n",
       "    </tr>\n",
       "    <tr>\n",
       "      <th>24782</th>\n",
       "      <td>3</td>\n",
       "      <td>0</td>\n",
       "      <td>0</td>\n",
       "      <td>3</td>\n",
       "      <td>2</td>\n",
       "      <td>~~Ruffled | Ntac Eileen Dahlia - Beautiful col...</td>\n",
       "      <td>127</td>\n",
       "    </tr>\n",
       "  </tbody>\n",
       "</table>\n",
       "<p>24783 rows × 7 columns</p>\n",
       "</div>"
      ],
      "text/plain": [
       "       count  hate_speech_count  offensive_language_count  neither_count  \\\n",
       "0          3                  0                         0              3   \n",
       "1          3                  0                         3              0   \n",
       "2          3                  0                         3              0   \n",
       "3          3                  0                         2              1   \n",
       "4          6                  0                         6              0   \n",
       "...      ...                ...                       ...            ...   \n",
       "24778      3                  0                         2              1   \n",
       "24779      3                  0                         1              2   \n",
       "24780      3                  0                         3              0   \n",
       "24781      6                  0                         6              0   \n",
       "24782      3                  0                         0              3   \n",
       "\n",
       "       class                                              tweet  tweet_length  \n",
       "0          2  !!! RT @mayasolovely: As a woman you shouldn't...           140  \n",
       "1          1  !!!!! RT @mleew17: boy dats cold...tyga dwn ba...            85  \n",
       "2          1  !!!!!!! RT @UrKindOfBrand Dawg!!!! RT @80sbaby...           120  \n",
       "3          1  !!!!!!!!! RT @C_G_Anderson: @viva_based she lo...            62  \n",
       "4          1  !!!!!!!!!!!!! RT @ShenikaRoberts: The shit you...           137  \n",
       "...      ...                                                ...           ...  \n",
       "24778      1  you's a muthaf***in lie &#8220;@LifeAsKing: @2...           146  \n",
       "24779      2  you've gone and broke the wrong heart baby, an...            70  \n",
       "24780      1  young buck wanna eat!!.. dat nigguh like I ain...            67  \n",
       "24781      1              youu got wild bitches tellin you lies            37  \n",
       "24782      2  ~~Ruffled | Ntac Eileen Dahlia - Beautiful col...           127  \n",
       "\n",
       "[24783 rows x 7 columns]"
      ]
     },
     "execution_count": 177,
     "metadata": {},
     "output_type": "execute_result"
    }
   ],
   "source": [
    "'''\n",
    "    view data before text process\n",
    "'''\n",
    "train_df"
   ]
  },
  {
   "cell_type": "markdown",
   "metadata": {},
   "source": [
    "**NOTE:**\n",
    "\n",
    "The dataset is too large thus takes hours in text processing.\n",
    "\n",
    "I will randomly sample the data to allow quick text processing."
   ]
  },
  {
   "cell_type": "code",
   "execution_count": 178,
   "metadata": {},
   "outputs": [],
   "source": [
    "# If your laptop can handle large datasets you can increase the number of samples in this cell\n",
    "# This is the sampled data that will save you time.\n",
    "\n",
    "sampled_df = train_df.sample(n=20000, random_state=42)\n",
    "\n",
    "sampled_df = sampled_df.reset_index(drop='first')"
   ]
  },
  {
   "cell_type": "code",
   "execution_count": 179,
   "metadata": {},
   "outputs": [
    {
     "data": {
      "text/html": [
       "<div>\n",
       "<style scoped>\n",
       "    .dataframe tbody tr th:only-of-type {\n",
       "        vertical-align: middle;\n",
       "    }\n",
       "\n",
       "    .dataframe tbody tr th {\n",
       "        vertical-align: top;\n",
       "    }\n",
       "\n",
       "    .dataframe thead th {\n",
       "        text-align: right;\n",
       "    }\n",
       "</style>\n",
       "<table border=\"1\" class=\"dataframe\">\n",
       "  <thead>\n",
       "    <tr style=\"text-align: right;\">\n",
       "      <th></th>\n",
       "      <th>count</th>\n",
       "      <th>hate_speech_count</th>\n",
       "      <th>offensive_language_count</th>\n",
       "      <th>neither_count</th>\n",
       "      <th>class</th>\n",
       "      <th>tweet</th>\n",
       "      <th>tweet_length</th>\n",
       "    </tr>\n",
       "  </thead>\n",
       "  <tbody>\n",
       "    <tr>\n",
       "      <th>0</th>\n",
       "      <td>3</td>\n",
       "      <td>0</td>\n",
       "      <td>3</td>\n",
       "      <td>0</td>\n",
       "      <td>1</td>\n",
       "      <td>934 8616\\ni got a missed call from yo bitch</td>\n",
       "      <td>42</td>\n",
       "    </tr>\n",
       "    <tr>\n",
       "      <th>1</th>\n",
       "      <td>3</td>\n",
       "      <td>0</td>\n",
       "      <td>3</td>\n",
       "      <td>0</td>\n",
       "      <td>1</td>\n",
       "      <td>RT @KINGTUNCHI_: Fucking with a bad bitch you ...</td>\n",
       "      <td>77</td>\n",
       "    </tr>\n",
       "    <tr>\n",
       "      <th>2</th>\n",
       "      <td>3</td>\n",
       "      <td>0</td>\n",
       "      <td>1</td>\n",
       "      <td>2</td>\n",
       "      <td>2</td>\n",
       "      <td>RT @eanahS__: @1inkkofrosess lol my credit ain...</td>\n",
       "      <td>130</td>\n",
       "    </tr>\n",
       "    <tr>\n",
       "      <th>3</th>\n",
       "      <td>3</td>\n",
       "      <td>0</td>\n",
       "      <td>3</td>\n",
       "      <td>0</td>\n",
       "      <td>1</td>\n",
       "      <td>RT @Maxin_Betha Wipe the cum out of them faggo...</td>\n",
       "      <td>102</td>\n",
       "    </tr>\n",
       "    <tr>\n",
       "      <th>4</th>\n",
       "      <td>3</td>\n",
       "      <td>1</td>\n",
       "      <td>2</td>\n",
       "      <td>0</td>\n",
       "      <td>1</td>\n",
       "      <td>Niggas cheat on they bitch and don't expect no...</td>\n",
       "      <td>104</td>\n",
       "    </tr>\n",
       "    <tr>\n",
       "      <th>...</th>\n",
       "      <td>...</td>\n",
       "      <td>...</td>\n",
       "      <td>...</td>\n",
       "      <td>...</td>\n",
       "      <td>...</td>\n",
       "      <td>...</td>\n",
       "      <td>...</td>\n",
       "    </tr>\n",
       "    <tr>\n",
       "      <th>19995</th>\n",
       "      <td>3</td>\n",
       "      <td>0</td>\n",
       "      <td>3</td>\n",
       "      <td>0</td>\n",
       "      <td>1</td>\n",
       "      <td>@MissJia sup nappy headed hoe you got quiet</td>\n",
       "      <td>43</td>\n",
       "    </tr>\n",
       "    <tr>\n",
       "      <th>19996</th>\n",
       "      <td>3</td>\n",
       "      <td>0</td>\n",
       "      <td>1</td>\n",
       "      <td>2</td>\n",
       "      <td>2</td>\n",
       "      <td>RT @RapBars_: Joey Badass said \"Traded in my N...</td>\n",
       "      <td>124</td>\n",
       "    </tr>\n",
       "    <tr>\n",
       "      <th>19997</th>\n",
       "      <td>6</td>\n",
       "      <td>0</td>\n",
       "      <td>6</td>\n",
       "      <td>0</td>\n",
       "      <td>1</td>\n",
       "      <td>Fuck that niggah he so weak he cant tell that ...</td>\n",
       "      <td>57</td>\n",
       "    </tr>\n",
       "    <tr>\n",
       "      <th>19998</th>\n",
       "      <td>3</td>\n",
       "      <td>0</td>\n",
       "      <td>3</td>\n",
       "      <td>0</td>\n",
       "      <td>1</td>\n",
       "      <td>#porn,#android,#iphone,#ipad,#sex,#xxx, | #BBW...</td>\n",
       "      <td>115</td>\n",
       "    </tr>\n",
       "    <tr>\n",
       "      <th>19999</th>\n",
       "      <td>3</td>\n",
       "      <td>2</td>\n",
       "      <td>1</td>\n",
       "      <td>0</td>\n",
       "      <td>0</td>\n",
       "      <td>No these are only whites pies.\\nWell do you ha...</td>\n",
       "      <td>63</td>\n",
       "    </tr>\n",
       "  </tbody>\n",
       "</table>\n",
       "<p>20000 rows × 7 columns</p>\n",
       "</div>"
      ],
      "text/plain": [
       "       count  hate_speech_count  offensive_language_count  neither_count  \\\n",
       "0          3                  0                         3              0   \n",
       "1          3                  0                         3              0   \n",
       "2          3                  0                         1              2   \n",
       "3          3                  0                         3              0   \n",
       "4          3                  1                         2              0   \n",
       "...      ...                ...                       ...            ...   \n",
       "19995      3                  0                         3              0   \n",
       "19996      3                  0                         1              2   \n",
       "19997      6                  0                         6              0   \n",
       "19998      3                  0                         3              0   \n",
       "19999      3                  2                         1              0   \n",
       "\n",
       "       class                                              tweet  tweet_length  \n",
       "0          1        934 8616\\ni got a missed call from yo bitch            42  \n",
       "1          1  RT @KINGTUNCHI_: Fucking with a bad bitch you ...            77  \n",
       "2          2  RT @eanahS__: @1inkkofrosess lol my credit ain...           130  \n",
       "3          1  RT @Maxin_Betha Wipe the cum out of them faggo...           102  \n",
       "4          1  Niggas cheat on they bitch and don't expect no...           104  \n",
       "...      ...                                                ...           ...  \n",
       "19995      1        @MissJia sup nappy headed hoe you got quiet            43  \n",
       "19996      2  RT @RapBars_: Joey Badass said \"Traded in my N...           124  \n",
       "19997      1  Fuck that niggah he so weak he cant tell that ...            57  \n",
       "19998      1  #porn,#android,#iphone,#ipad,#sex,#xxx, | #BBW...           115  \n",
       "19999      0  No these are only whites pies.\\nWell do you ha...            63  \n",
       "\n",
       "[20000 rows x 7 columns]"
      ]
     },
     "execution_count": 179,
     "metadata": {},
     "output_type": "execute_result"
    }
   ],
   "source": [
    "'''\n",
    "    Sampled data before text process\n",
    "'''\n",
    "sampled_df"
   ]
  },
  {
   "cell_type": "code",
   "execution_count": 151,
   "metadata": {},
   "outputs": [],
   "source": [
    "# apply the function above to the text column\n",
    "sampled_df['tweet'] = sampled_df['tweet'].apply(preprocess_text)"
   ]
  },
  {
   "cell_type": "code",
   "execution_count": 152,
   "metadata": {},
   "outputs": [
    {
     "data": {
      "text/html": [
       "<div>\n",
       "<style scoped>\n",
       "    .dataframe tbody tr th:only-of-type {\n",
       "        vertical-align: middle;\n",
       "    }\n",
       "\n",
       "    .dataframe tbody tr th {\n",
       "        vertical-align: top;\n",
       "    }\n",
       "\n",
       "    .dataframe thead th {\n",
       "        text-align: right;\n",
       "    }\n",
       "</style>\n",
       "<table border=\"1\" class=\"dataframe\">\n",
       "  <thead>\n",
       "    <tr style=\"text-align: right;\">\n",
       "      <th></th>\n",
       "      <th>count</th>\n",
       "      <th>hate_speech_count</th>\n",
       "      <th>offensive_language_count</th>\n",
       "      <th>neither_count</th>\n",
       "      <th>class</th>\n",
       "      <th>tweet</th>\n",
       "      <th>tweet_length</th>\n",
       "    </tr>\n",
       "  </thead>\n",
       "  <tbody>\n",
       "    <tr>\n",
       "      <th>0</th>\n",
       "      <td>3</td>\n",
       "      <td>0</td>\n",
       "      <td>3</td>\n",
       "      <td>0</td>\n",
       "      <td>1</td>\n",
       "      <td>i got missed call yo bitch</td>\n",
       "      <td>42</td>\n",
       "    </tr>\n",
       "    <tr>\n",
       "      <th>1</th>\n",
       "      <td>3</td>\n",
       "      <td>0</td>\n",
       "      <td>3</td>\n",
       "      <td>0</td>\n",
       "      <td>1</td>\n",
       "      <td>fucking bad bitch you gone need money lil homie</td>\n",
       "      <td>77</td>\n",
       "    </tr>\n",
       "    <tr>\n",
       "      <th>2</th>\n",
       "      <td>3</td>\n",
       "      <td>0</td>\n",
       "      <td>1</td>\n",
       "      <td>2</td>\n",
       "      <td>2</td>\n",
       "      <td>inkkofrosess lol credit near good  i know righ...</td>\n",
       "      <td>130</td>\n",
       "    </tr>\n",
       "    <tr>\n",
       "      <th>3</th>\n",
       "      <td>3</td>\n",
       "      <td>0</td>\n",
       "      <td>3</td>\n",
       "      <td>0</td>\n",
       "      <td>1</td>\n",
       "      <td>rtwipe cum faggot rtcontact lens wildin cannot...</td>\n",
       "      <td>102</td>\n",
       "    </tr>\n",
       "    <tr>\n",
       "      <th>4</th>\n",
       "      <td>3</td>\n",
       "      <td>1</td>\n",
       "      <td>2</td>\n",
       "      <td>0</td>\n",
       "      <td>1</td>\n",
       "      <td>niggas cheat bitch expect pay back whatsoever ...</td>\n",
       "      <td>104</td>\n",
       "    </tr>\n",
       "    <tr>\n",
       "      <th>...</th>\n",
       "      <td>...</td>\n",
       "      <td>...</td>\n",
       "      <td>...</td>\n",
       "      <td>...</td>\n",
       "      <td>...</td>\n",
       "      <td>...</td>\n",
       "      <td>...</td>\n",
       "    </tr>\n",
       "    <tr>\n",
       "      <th>19995</th>\n",
       "      <td>3</td>\n",
       "      <td>0</td>\n",
       "      <td>3</td>\n",
       "      <td>0</td>\n",
       "      <td>1</td>\n",
       "      <td>missjia sup nappy headed hoe you got quiet</td>\n",
       "      <td>43</td>\n",
       "    </tr>\n",
       "    <tr>\n",
       "      <th>19996</th>\n",
       "      <td>3</td>\n",
       "      <td>0</td>\n",
       "      <td>1</td>\n",
       "      <td>2</td>\n",
       "      <td>2</td>\n",
       "      <td>joey badass said traded nikes new mic i guess ...</td>\n",
       "      <td>124</td>\n",
       "    </tr>\n",
       "    <tr>\n",
       "      <th>19997</th>\n",
       "      <td>6</td>\n",
       "      <td>0</td>\n",
       "      <td>6</td>\n",
       "      <td>0</td>\n",
       "      <td>1</td>\n",
       "      <td>fuck niggah he weak he cannot tell you freak</td>\n",
       "      <td>57</td>\n",
       "    </tr>\n",
       "    <tr>\n",
       "      <th>19998</th>\n",
       "      <td>3</td>\n",
       "      <td>0</td>\n",
       "      <td>3</td>\n",
       "      <td>0</td>\n",
       "      <td>1</td>\n",
       "      <td>pornandroidiphoneipadsexx  bbw  brazilian bbw ...</td>\n",
       "      <td>115</td>\n",
       "    </tr>\n",
       "    <tr>\n",
       "      <th>19999</th>\n",
       "      <td>3</td>\n",
       "      <td>2</td>\n",
       "      <td>1</td>\n",
       "      <td>0</td>\n",
       "      <td>0</td>\n",
       "      <td>whites pies well you negro pies</td>\n",
       "      <td>63</td>\n",
       "    </tr>\n",
       "  </tbody>\n",
       "</table>\n",
       "<p>20000 rows × 7 columns</p>\n",
       "</div>"
      ],
      "text/plain": [
       "       count  hate_speech_count  offensive_language_count  neither_count  \\\n",
       "0          3                  0                         3              0   \n",
       "1          3                  0                         3              0   \n",
       "2          3                  0                         1              2   \n",
       "3          3                  0                         3              0   \n",
       "4          3                  1                         2              0   \n",
       "...      ...                ...                       ...            ...   \n",
       "19995      3                  0                         3              0   \n",
       "19996      3                  0                         1              2   \n",
       "19997      6                  0                         6              0   \n",
       "19998      3                  0                         3              0   \n",
       "19999      3                  2                         1              0   \n",
       "\n",
       "       class                                              tweet  tweet_length  \n",
       "0          1                         i got missed call yo bitch            42  \n",
       "1          1    fucking bad bitch you gone need money lil homie            77  \n",
       "2          2  inkkofrosess lol credit near good  i know righ...           130  \n",
       "3          1  rtwipe cum faggot rtcontact lens wildin cannot...           102  \n",
       "4          1  niggas cheat bitch expect pay back whatsoever ...           104  \n",
       "...      ...                                                ...           ...  \n",
       "19995      1         missjia sup nappy headed hoe you got quiet            43  \n",
       "19996      2  joey badass said traded nikes new mic i guess ...           124  \n",
       "19997      1       fuck niggah he weak he cannot tell you freak            57  \n",
       "19998      1  pornandroidiphoneipadsexx  bbw  brazilian bbw ...           115  \n",
       "19999      0                    whites pies well you negro pies            63  \n",
       "\n",
       "[20000 rows x 7 columns]"
      ]
     },
     "execution_count": 152,
     "metadata": {},
     "output_type": "execute_result"
    }
   ],
   "source": [
    "'''\n",
    "    Sampled data after text process\n",
    "'''\n",
    "sampled_df"
   ]
  },
  {
   "cell_type": "markdown",
   "metadata": {},
   "source": [
    "### Train/test split"
   ]
  },
  {
   "cell_type": "code",
   "execution_count": 153,
   "metadata": {},
   "outputs": [],
   "source": [
    "#Import relevant library\n",
    "\n",
    "from sklearn.model_selection import train_test_split"
   ]
  },
  {
   "cell_type": "code",
   "execution_count": 154,
   "metadata": {},
   "outputs": [
    {
     "name": "stdout",
     "output_type": "stream",
     "text": [
      "Training set shape: (16000,)\n",
      "**********\n",
      "Testing set shape: (4000,)\n"
     ]
    }
   ],
   "source": [
    "# Train-Test Split\n",
    "\n",
    "X = sampled_df['tweet']  # Features\n",
    "y = sampled_df['class']  # Target variable\n",
    "\n",
    "# Split the data into training and testing sets\n",
    "X_train, X_test, y_train, y_test = train_test_split(X, y, test_size=0.2, random_state=42, stratify=y)\n",
    "\n",
    "# Check the shape of the resulting datasets\n",
    "print(\"Training set shape:\", X_train.shape)\n",
    "\n",
    "print(\"**********\")\n",
    "\n",
    "print(\"Testing set shape:\", X_test.shape)"
   ]
  },
  {
   "cell_type": "markdown",
   "metadata": {},
   "source": [
    "### Tokenization & Padding "
   ]
  },
  {
   "cell_type": "code",
   "execution_count": 155,
   "metadata": {},
   "outputs": [],
   "source": [
    "# import relevant libraries\n",
    "\n",
    "from tensorflow.keras.preprocessing.text import Tokenizer\n",
    "from tensorflow.keras.preprocessing.sequence import pad_sequences\n",
    "from collections import Counter"
   ]
  },
  {
   "cell_type": "markdown",
   "metadata": {},
   "source": [
    "#### **Train Data**"
   ]
  },
  {
   "cell_type": "code",
   "execution_count": 156,
   "metadata": {},
   "outputs": [
    {
     "name": "stdout",
     "output_type": "stream",
     "text": [
      "Vocabulary size: 21029\n"
     ]
    }
   ],
   "source": [
    "# tokenize the 'tweet' column\n",
    "tokenizer = Tokenizer(num_words=5000)\n",
    "tokenizer.fit_on_texts(X_train)\n",
    "word_index = tokenizer.word_index\n",
    "print(f'Vocabulary size: {len(word_index)}')"
   ]
  },
  {
   "cell_type": "code",
   "execution_count": 157,
   "metadata": {},
   "outputs": [],
   "source": [
    "# Convert texts to sequences\n",
    "X_train = tokenizer.texts_to_sequences(X_train)"
   ]
  },
  {
   "cell_type": "code",
   "execution_count": 158,
   "metadata": {},
   "outputs": [
    {
     "data": {
      "text/plain": [
       "(16000,)"
      ]
     },
     "execution_count": 158,
     "metadata": {},
     "output_type": "execute_result"
    }
   ],
   "source": [
    "# before padding - train data\n",
    "np.shape(X_train)"
   ]
  },
  {
   "cell_type": "code",
   "execution_count": 159,
   "metadata": {},
   "outputs": [],
   "source": [
    "# Defining a max length for truncating the sequences.\n",
    "max_len = 500\n",
    "X_train = pad_sequences(X_train, maxlen=max_len)"
   ]
  },
  {
   "cell_type": "code",
   "execution_count": 160,
   "metadata": {},
   "outputs": [
    {
     "data": {
      "text/plain": [
       "(16000, 500)"
      ]
     },
     "execution_count": 160,
     "metadata": {},
     "output_type": "execute_result"
    }
   ],
   "source": [
    "# after padding - train data\n",
    "np.shape(X_train)"
   ]
  },
  {
   "cell_type": "code",
   "execution_count": 161,
   "metadata": {},
   "outputs": [
    {
     "data": {
      "text/plain": [
       "(16000,)"
      ]
     },
     "execution_count": 161,
     "metadata": {},
     "output_type": "execute_result"
    }
   ],
   "source": [
    "y_train.shape"
   ]
  },
  {
   "cell_type": "markdown",
   "metadata": {},
   "source": [
    "### Tokenization & Padding"
   ]
  },
  {
   "cell_type": "markdown",
   "metadata": {},
   "source": [
    "#### **Test Data**"
   ]
  },
  {
   "cell_type": "code",
   "execution_count": 162,
   "metadata": {},
   "outputs": [],
   "source": [
    "# Convert texts to sequences\n",
    "X_test = tokenizer.texts_to_sequences(X_test)"
   ]
  },
  {
   "cell_type": "code",
   "execution_count": 163,
   "metadata": {},
   "outputs": [
    {
     "data": {
      "text/plain": [
       "(4000,)"
      ]
     },
     "execution_count": 163,
     "metadata": {},
     "output_type": "execute_result"
    }
   ],
   "source": [
    "# before padding - test data\n",
    "np.shape(X_test)"
   ]
  },
  {
   "cell_type": "code",
   "execution_count": 164,
   "metadata": {},
   "outputs": [],
   "source": [
    "# Defining a max length for truncating the sequences.\n",
    "max_len = 500\n",
    "X_test = pad_sequences(X_test, maxlen=max_len)"
   ]
  },
  {
   "cell_type": "code",
   "execution_count": 165,
   "metadata": {},
   "outputs": [
    {
     "data": {
      "text/plain": [
       "(4000, 500)"
      ]
     },
     "execution_count": 165,
     "metadata": {},
     "output_type": "execute_result"
    }
   ],
   "source": [
    "# after padding - test data\n",
    "np.shape(X_test)"
   ]
  },
  {
   "cell_type": "code",
   "execution_count": 69,
   "metadata": {},
   "outputs": [
    {
     "data": {
      "text/plain": [
       "(4000,)"
      ]
     },
     "execution_count": 69,
     "metadata": {},
     "output_type": "execute_result"
    }
   ],
   "source": [
    "y_test.shape"
   ]
  },
  {
   "cell_type": "markdown",
   "metadata": {},
   "source": [
    "## Modeling\n",
    "- We shall be creating three models by use of neutral networks mainly CNN.\n",
    "- CNN will be used to train the train data of the model so that it can be able to classify our texts as either offensive langauge, hate speech or neutral.\n",
    "- Later on, the model will be evaluated on the testing data to comprehend if that can be used on new or unseen data.\n",
    "\n"
   ]
  },
  {
   "cell_type": "markdown",
   "metadata": {},
   "source": [
    "## CNN Base Model \n",
    "For the base model, a simple model will be created to test if the model will perform well on the train data.\n",
    "\n"
   ]
  },
  {
   "cell_type": "code",
   "execution_count": 70,
   "metadata": {},
   "outputs": [],
   "source": [
    "#import the necessary libraries\n",
    "from tensorflow.keras.models import Sequential\n",
    "from keras.optimizers import Adam\n",
    "from tensorflow.keras.layers import Conv1D, MaxPooling1D, Flatten, Dense, Embedding, Dropout, GlobalMaxPooling1D, Bidirectional, LSTM\n"
   ]
  },
  {
   "cell_type": "code",
   "execution_count": 71,
   "metadata": {},
   "outputs": [],
   "source": [
    "\n",
    "base_model = Sequential()\n",
    "\n",
    "# embedding layer to learn word embeddings\n",
    "base_model.add(Embedding(input_dim=5001, output_dim=128, input_length=max_len))\n",
    "\n",
    "#convolutional layer as the first layer \n",
    "base_model.add(Conv1D(filters=64, kernel_size=3, activation='relu'))\n",
    "\n",
    "# Max Pooling Layer\n",
    "base_model.add(MaxPooling1D(pool_size=4))\n",
    "\n",
    "# Flatten Output\n",
    "base_model.add(Flatten())\n",
    "\n",
    "# Fully Connected Layer\n",
    "base_model.add(Dense(128, activation='relu'))\n",
    "\n",
    "#Regularization to prevent overfitting\n",
    "base_model.add(Dropout(0.35))\n",
    "\n",
    "# Output Layer\n",
    "base_model.add(Dense(3, activation='softmax'))\n",
    "\n",
    "# Compiling the base model \n",
    "# sparse categorical crossentropy to be used due to 3 labels \n",
    "base_model.compile(loss='sparse_categorical_crossentropy', optimizer='adam', metrics=['accuracy'])"
   ]
  },
  {
   "cell_type": "code",
   "execution_count": 72,
   "metadata": {},
   "outputs": [
    {
     "name": "stdout",
     "output_type": "stream",
     "text": [
      "Model: \"sequential\"\n",
      "_________________________________________________________________\n",
      "Layer (type)                 Output Shape              Param #   \n",
      "=================================================================\n",
      "embedding (Embedding)        (None, 500, 128)          640128    \n",
      "_________________________________________________________________\n",
      "conv1d (Conv1D)              (None, 498, 64)           24640     \n",
      "_________________________________________________________________\n",
      "max_pooling1d (MaxPooling1D) (None, 124, 64)           0         \n",
      "_________________________________________________________________\n",
      "flatten (Flatten)            (None, 7936)              0         \n",
      "_________________________________________________________________\n",
      "dense (Dense)                (None, 128)               1015936   \n",
      "_________________________________________________________________\n",
      "dropout (Dropout)            (None, 128)               0         \n",
      "_________________________________________________________________\n",
      "dense_1 (Dense)              (None, 3)                 387       \n",
      "=================================================================\n",
      "Total params: 1,681,091\n",
      "Trainable params: 1,681,091\n",
      "Non-trainable params: 0\n",
      "_________________________________________________________________\n"
     ]
    }
   ],
   "source": [
    "base_model.summary()"
   ]
  },
  {
   "cell_type": "code",
   "execution_count": 73,
   "metadata": {},
   "outputs": [
    {
     "name": "stdout",
     "output_type": "stream",
     "text": [
      "Epoch 1/5\n",
      "250/250 [==============================] - 47s 189ms/step - loss: 0.5765 - accuracy: 0.7924 - val_loss: 0.4891 - val_accuracy: 0.8232\n",
      "Epoch 2/5\n",
      "250/250 [==============================] - 44s 175ms/step - loss: 0.4371 - accuracy: 0.8547 - val_loss: 0.4979 - val_accuracy: 0.8273\n",
      "Epoch 3/5\n",
      "250/250 [==============================] - 44s 175ms/step - loss: 0.3506 - accuracy: 0.8789 - val_loss: 0.5064 - val_accuracy: 0.8227\n",
      "Epoch 4/5\n",
      "250/250 [==============================] - 44s 176ms/step - loss: 0.2726 - accuracy: 0.9034 - val_loss: 0.5588 - val_accuracy: 0.8190\n",
      "Epoch 5/5\n",
      "250/250 [==============================] - 47s 190ms/step - loss: 0.2124 - accuracy: 0.9267 - val_loss: 0.7347 - val_accuracy: 0.8142\n"
     ]
    }
   ],
   "source": [
    "# fitting our data to the second model\n",
    "model_history = base_model.fit(X_train, y_train, epochs=5, batch_size=64, validation_data=(X_test, y_test))"
   ]
  },
  {
   "cell_type": "markdown",
   "metadata": {},
   "source": [
    "### Base model interpretation\n",
    "The accuracy portrayed after fitting the training model is 93% while the loss found is 0.1992.\n",
    "\n",
    "This shows that our model is doing very well on the training data."
   ]
  },
  {
   "cell_type": "markdown",
   "metadata": {},
   "source": [
    "### Base Model Visualization\n",
    "- Visualizing loss and accuracy with comparison with validation accuracy and loss."
   ]
  },
  {
   "cell_type": "code",
   "execution_count": 74,
   "metadata": {},
   "outputs": [],
   "source": [
    "# create a function to handle our visualization\n",
    "def visualize_training_results(results):\n",
    "    history = results.history\n",
    "    plt.figure()\n",
    "    plt.plot(history['val_loss'])\n",
    "    plt.plot(history['loss'])\n",
    "    plt.legend(['val_loss', 'loss'])\n",
    "    plt.title('Loss')\n",
    "    plt.xlabel('Epochs')\n",
    "    plt.ylabel('Loss')\n",
    "    plt.show()\n",
    "    \n",
    "    plt.figure()\n",
    "    plt.plot(history['val_accuracy'])\n",
    "    plt.plot(history['accuracy'])\n",
    "    plt.legend(['val_accuracy', 'accuracy'])\n",
    "    plt.title('Accuracy')\n",
    "    plt.xlabel('Epochs')\n",
    "    plt.ylabel('Accuracy')\n",
    "    plt.show()"
   ]
  },
  {
   "cell_type": "code",
   "execution_count": 75,
   "metadata": {},
   "outputs": [
    {
     "data": {
      "image/png": "[encoded data removed]",
      "text/plain": [
       "<Figure size 432x288 with 1 Axes>"
      ]
     },
     "metadata": {
      "needs_background": "light"
     },
     "output_type": "display_data"
    },
    {
     "data": {
      "image/png": "[encoded data removed]",
      "text/plain": [
       "<Figure size 432x288 with 1 Axes>"
      ]
     },
     "metadata": {
      "needs_background": "light"
     },
     "output_type": "display_data"
    }
   ],
   "source": [
    "# plot the cnn base model Loss and Accuracy with comparison with validation loss and validation accuracy\n",
    "visualize_training_results(model_history) "
   ]
  },
  {
   "cell_type": "markdown",
   "metadata": {},
   "source": [
    "#### Interpretation\n",
    "From the first visualization, the loss decreases as the number of epochs decreases showing how well the model predictions match the actual indicating better performance.\n",
    "\n",
    "The second visualization indicates how the accuracy increases as the number of epochs increases, this shows how the model is able to learn the train data and indicate better performance on the train data."
   ]
  },
  {
   "cell_type": "markdown",
   "metadata": {},
   "source": [
    "## Second Model\n",
    "\n",
    "- In the second model, we shall be using global max pooling to reduce dimensionality, reducing the data size and helps the model focus on important features without worrying about their exact position.\n",
    "\n",
    "- Global max pooling: Takes the maximum from the entire feature map, reducing each feature map to a single value. It condenses all spatial information into one value per feature, typically near the end of a model.\n",
    "\n",
    "- Max Pooling (1D): Applies pooling over small sections for every 2 or 3 values across the sequence or grid, which reduces size but keeps some spatial information. "
   ]
  },
  {
   "cell_type": "code",
   "execution_count": 76,
   "metadata": {},
   "outputs": [],
   "source": [
    "sec_model = Sequential()\n",
    "\n",
    "# embedding layer to learn word embeddings\n",
    "sec_model.add(Embedding(input_dim=5001, output_dim=128, input_length=max_len))\n",
    "\n",
    "# 1D convolutional layer\n",
    "sec_model.add(Conv1D(filters=128, kernel_size=3, activation='relu'))\n",
    "\n",
    "# GlobalMaxPooling to reduce dimensionality\n",
    "sec_model.add(GlobalMaxPooling1D())\n",
    "\n",
    "# fully connected layers\n",
    "sec_model.add(Dense(10, activation='relu'))\n",
    "sec_model.add(Dense(3, activation='softmax'))  # output layer for multiple classification\n",
    "\n",
    "#add dropout for regularization to reduce overfitting\n",
    "sec_model.add(Dropout(0.25))\n",
    "\n",
    "# compile the model\n",
    "sec_model.compile(loss='sparse_categorical_crossentropy', optimizer='adam', metrics=['accuracy'])"
   ]
  },
  {
   "cell_type": "code",
   "execution_count": 77,
   "metadata": {},
   "outputs": [
    {
     "name": "stdout",
     "output_type": "stream",
     "text": [
      "Model: \"sequential_1\"\n",
      "_________________________________________________________________\n",
      "Layer (type)                 Output Shape              Param #   \n",
      "=================================================================\n",
      "embedding_1 (Embedding)      (None, 500, 128)          640128    \n",
      "_________________________________________________________________\n",
      "conv1d_1 (Conv1D)            (None, 498, 128)          49280     \n",
      "_________________________________________________________________\n",
      "global_max_pooling1d (Global (None, 128)               0         \n",
      "_________________________________________________________________\n",
      "dense_2 (Dense)              (None, 10)                1290      \n",
      "_________________________________________________________________\n",
      "dense_3 (Dense)              (None, 3)                 33        \n",
      "_________________________________________________________________\n",
      "dropout_1 (Dropout)          (None, 3)                 0         \n",
      "=================================================================\n",
      "Total params: 690,731\n",
      "Trainable params: 690,731\n",
      "Non-trainable params: 0\n",
      "_________________________________________________________________\n"
     ]
    }
   ],
   "source": [
    "sec_model.summary()"
   ]
  },
  {
   "cell_type": "code",
   "execution_count": 78,
   "metadata": {},
   "outputs": [
    {
     "name": "stdout",
     "output_type": "stream",
     "text": [
      "Epoch 1/5\n",
      "250/250 [==============================] - 63s 251ms/step - loss: 2.5040 - accuracy: 0.6399 - val_loss: 0.7895 - val_accuracy: 0.8795\n",
      "Epoch 2/5\n",
      "250/250 [==============================] - 59s 235ms/step - loss: 1.4329 - accuracy: 0.6894 - val_loss: 1.0260 - val_accuracy: 0.8932\n",
      "Epoch 3/5\n",
      "250/250 [==============================] - 63s 250ms/step - loss: 1.2861 - accuracy: 0.6960 - val_loss: 1.0366 - val_accuracy: 0.8873\n",
      "Epoch 4/5\n",
      "250/250 [==============================] - 59s 236ms/step - loss: 1.2143 - accuracy: 0.6968 - val_loss: 1.0653 - val_accuracy: 0.8885\n",
      "Epoch 5/5\n",
      "250/250 [==============================] - 57s 228ms/step - loss: 1.0957 - accuracy: 0.7044 - val_loss: 1.1725 - val_accuracy: 0.8880\n"
     ]
    }
   ],
   "source": [
    "second_history = sec_model.fit(X_train, y_train, epochs=5, batch_size=64, validation_data=(X_test, y_test))"
   ]
  },
  {
   "cell_type": "markdown",
   "metadata": {},
   "source": [
    "### Second model interpretation\n",
    "The accuracy portrayed after fitting the training model is 70% while the loss found is 1.1374.\n",
    "\n",
    "This shows that our model is doing reasonably well on the training data."
   ]
  },
  {
   "cell_type": "markdown",
   "metadata": {},
   "source": [
    "### Second Model Visualization\n",
    "- Visualizing loss and accuracy with comparison with validation accuracy and loss."
   ]
  },
  {
   "cell_type": "code",
   "execution_count": 79,
   "metadata": {},
   "outputs": [
    {
     "data": {
      "image/png": "[encoded data removed]",
      "text/plain": [
       "<Figure size 432x288 with 1 Axes>"
      ]
     },
     "metadata": {
      "needs_background": "light"
     },
     "output_type": "display_data"
    },
    {
     "data": {
      "image/png": "[encoded data removed]",
      "text/plain": [
       "<Figure size 432x288 with 1 Axes>"
      ]
     },
     "metadata": {
      "needs_background": "light"
     },
     "output_type": "display_data"
    }
   ],
   "source": [
    "# plot the cnn second model Loss and Accuracy with comparison with validation loss and validation accuracy\n",
    "visualize_training_results(second_history) "
   ]
  },
  {
   "cell_type": "markdown",
   "metadata": {},
   "source": [
    "#### Interpretation\n",
    "From the loss visualization, the loss decreases rapidly as the number of epochs increases. This shows that the model is learning the training data easily.\n",
    "\n",
    "From the accuracy visulization, accuracy increases as the number of epochs increases, this shows how the model is able to learn the train data and indicate better performance on the train data."
   ]
  },
  {
   "cell_type": "markdown",
   "metadata": {},
   "source": [
    "## Third Model\n",
    "- For the third model, bidirectional LSTM shall be used for capturing sequence context for a more comprehensive feature representation.\n",
    "- Create a richer, more robust feature representation of the data, which can lead to improved model generalization and performance on unseen data.\n",
    "- A learning rate is introduced to reduce overfitting of the model.\n"
   ]
  },
  {
   "cell_type": "code",
   "execution_count": 80,
   "metadata": {},
   "outputs": [],
   "source": [
    "# Create the model\n",
    "third_model = Sequential()\n",
    "# Embedding layer to learn word embeddings\n",
    "third_model.add(Embedding(input_dim=5001, output_dim=128, input_length=max_len))\n",
    "\n",
    "# 1D convolutional layer\n",
    "third_model.add(Conv1D(filters=128, kernel_size=3, activation='relu'))\n",
    "third_model.add(Dropout(0.5))  # Dropout layer to prevent overfitting\n",
    "\n",
    "# Bidirectional LSTM for capturing sequence context\n",
    "third_model.add(Bidirectional(LSTM(64, return_sequences=True)))\n",
    "third_model.add(Dropout(0.5))\n",
    "\n",
    "# GlobalMaxPooling to reduce dimensionality\n",
    "third_model.add(GlobalMaxPooling1D())\n",
    "\n",
    "# Fully connected layers\n",
    "third_model.add(Dense(64, activation='relu'))\n",
    "third_model.add(Dropout(0.5))  # Dropout for further regularization\n",
    "third_model.add(Dense(3, activation='softmax'))  # Output layer for multi-class classification\n",
    "\n",
    "# Compile the model with sparse categorical crossentropy\n",
    "third_model.compile(loss='sparse_categorical_crossentropy', optimizer=Adam(learning_rate=0.0001), metrics=['accuracy'])"
   ]
  },
  {
   "cell_type": "code",
   "execution_count": 81,
   "metadata": {},
   "outputs": [
    {
     "name": "stdout",
     "output_type": "stream",
     "text": [
      "Model: \"sequential_2\"\n",
      "_________________________________________________________________\n",
      "Layer (type)                 Output Shape              Param #   \n",
      "=================================================================\n",
      "embedding_2 (Embedding)      (None, 500, 128)          640128    \n",
      "_________________________________________________________________\n",
      "conv1d_2 (Conv1D)            (None, 498, 128)          49280     \n",
      "_________________________________________________________________\n",
      "dropout_2 (Dropout)          (None, 498, 128)          0         \n",
      "_________________________________________________________________\n",
      "bidirectional (Bidirectional (None, 498, 128)          98816     \n",
      "_________________________________________________________________\n",
      "dropout_3 (Dropout)          (None, 498, 128)          0         \n",
      "_________________________________________________________________\n",
      "global_max_pooling1d_1 (Glob (None, 128)               0         \n",
      "_________________________________________________________________\n",
      "dense_4 (Dense)              (None, 64)                8256      \n",
      "_________________________________________________________________\n",
      "dropout_4 (Dropout)          (None, 64)                0         \n",
      "_________________________________________________________________\n",
      "dense_5 (Dense)              (None, 3)                 195       \n",
      "=================================================================\n",
      "Total params: 796,675\n",
      "Trainable params: 796,675\n",
      "Non-trainable params: 0\n",
      "_________________________________________________________________\n"
     ]
    }
   ],
   "source": [
    "third_model.summary()"
   ]
  },
  {
   "cell_type": "code",
   "execution_count": 82,
   "metadata": {},
   "outputs": [
    {
     "name": "stdout",
     "output_type": "stream",
     "text": [
      "Epoch 1/5\n",
      "250/250 [==============================] - 354s 1s/step - loss: 0.7456 - accuracy: 0.7592 - val_loss: 0.8231 - val_accuracy: 0.7725\n",
      "Epoch 2/5\n",
      "250/250 [==============================] - 349s 1s/step - loss: 0.6334 - accuracy: 0.7759 - val_loss: 0.5811 - val_accuracy: 0.8048\n",
      "Epoch 3/5\n",
      "250/250 [==============================] - 715s 3s/step - loss: 0.4046 - accuracy: 0.8673 - val_loss: 0.4306 - val_accuracy: 0.8740\n",
      "Epoch 4/5\n",
      "250/250 [==============================] - 345s 1s/step - loss: 0.3435 - accuracy: 0.8999 - val_loss: 0.4137 - val_accuracy: 0.8855\n",
      "Epoch 5/5\n",
      "250/250 [==============================] - 338s 1s/step - loss: 0.3052 - accuracy: 0.9110 - val_loss: 0.4084 - val_accuracy: 0.8860\n"
     ]
    }
   ],
   "source": [
    "third_history = third_model.fit(X_train, y_train, epochs=5, batch_size=64, validation_data=(X_test, y_test))"
   ]
  },
  {
   "cell_type": "markdown",
   "metadata": {},
   "source": [
    "### Third model interpretation\n",
    "The accuracy portrayed after fitting the training model is 91% while the loss found is 0.2981.\n",
    "\n",
    "This shows that our model is doing very well on the training data."
   ]
  },
  {
   "cell_type": "markdown",
   "metadata": {},
   "source": [
    "### Third Model Visualization\n",
    "- Visualizing loss and accuracy with comparison with validation accuracy and loss."
   ]
  },
  {
   "cell_type": "code",
   "execution_count": 83,
   "metadata": {},
   "outputs": [
    {
     "data": {
      "image/png": "[encoded data removed]",
      "text/plain": [
       "<Figure size 432x288 with 1 Axes>"
      ]
     },
     "metadata": {
      "needs_background": "light"
     },
     "output_type": "display_data"
    },
    {
     "data": {
      "image/png": "[encoded data removed]",
      "text/plain": [
       "<Figure size 432x288 with 1 Axes>"
      ]
     },
     "metadata": {
      "needs_background": "light"
     },
     "output_type": "display_data"
    }
   ],
   "source": [
    "# plot the cnn third model Loss and Accuracy with comparison with validation loss and validation accuracy\n",
    "visualize_training_results(third_history) "
   ]
  },
  {
   "cell_type": "markdown",
   "metadata": {},
   "source": [
    "#### Interpretation\n",
    "From the loss visualization, the loss decreases rapidly as the number of epochs increases. This shows that the model is learning the training data easily.\n",
    "\n",
    "From the accuracy visulization, accuracy increases from epoch 1 as the number of epochs increases, this shows how the model is able to learn the train data and indicate better performance on the train data."
   ]
  },
  {
   "cell_type": "markdown",
   "metadata": {},
   "source": [
    "### The best model\n",
    "From the 3 models, the base model had a higher accuracy. The visualizations of the base model showed that the model was overfitting due to the accuracy increasing rapidly and the validation accuracy been leveled and not showing any change. This is a sign of the model overfitting hence the base model is not considered as the best model for evaluation.\n",
    "\n",
    "The second model had a moderate accuracy of around 70% but the validation accuracy was higher than the actual accuracy showing an indication of the model underfitting the training data hence the second model is not considered as the best model.\n",
    "\n",
    "The third model hence is considered as the best model as the validation accuracy increases side by side with the accurac. This indicates that the model is learning effectively from the training data while also generalizing well to the validation set. The third model is hence chosen as the best model with an accuracy of 91%."
   ]
  },
  {
   "cell_type": "markdown",
   "metadata": {},
   "source": [
    "## Evaluation\n",
    "-Under evaluation, the best model will be used to evaluate the the test data and get the accuracy.\n",
    "\n",
    "-Further on, the system will be tested on basis of input data that a user will generate and check if the system can be able to categorize the text or tweet as either offensive language, hate speech or neutral text."
   ]
  },
  {
   "cell_type": "code",
   "execution_count": 84,
   "metadata": {},
   "outputs": [],
   "source": [
    "# import relevant libraries\n",
    "\n",
    "from sklearn.metrics import accuracy_score, precision_score, recall_score, f1_score, confusion_matrix, classification_report"
   ]
  },
  {
   "cell_type": "code",
   "execution_count": 85,
   "metadata": {},
   "outputs": [
    {
     "name": "stdout",
     "output_type": "stream",
     "text": [
      "125/125 [==============================] - 18s 147ms/step - loss: 0.4084 - accuracy: 0.8860\n",
      "Test Accuracy:  88.60%\n",
      "Test Loss:  0.4084\n"
     ]
    }
   ],
   "source": [
    "loss, accuracy = third_model.evaluate(X_test, y_test)\n",
    "print(f'Test Accuracy: {accuracy * 100: .2f}%')\n",
    "print(f'Test Loss: {loss: .4f}')"
   ]
  },
  {
   "cell_type": "markdown",
   "metadata": {},
   "source": [
    "### Detection of Tweet"
   ]
  },
  {
   "cell_type": "code",
   "execution_count": 180,
   "metadata": {},
   "outputs": [],
   "source": [
    "def  user_tweet():\n",
    "    tweet = input('Enter a tweet:\\n')\n",
    "    return tweet"
   ]
  },
  {
   "cell_type": "code",
   "execution_count": 199,
   "metadata": {},
   "outputs": [
    {
     "name": "stdout",
     "output_type": "stream",
     "text": [
      "[0.08571844 0.90674686 0.00753471]\n",
      "Predicted Class: 1\n"
     ]
    },
    {
     "ename": "SyntaxError",
     "evalue": "'return' outside function (<ipython-input-199-3bd7cf8d5ec5>, line 19)",
     "output_type": "error",
     "traceback": [
      "\u001b[1;36m  File \u001b[1;32m\"<ipython-input-199-3bd7cf8d5ec5>\"\u001b[1;36m, line \u001b[1;32m19\u001b[0m\n\u001b[1;33m    return 'Hate speech'\u001b[0m\n\u001b[1;37m    ^\u001b[0m\n\u001b[1;31mSyntaxError\u001b[0m\u001b[1;31m:\u001b[0m 'return' outside function\n"
     ]
    }
   ],
   "source": [
    "def predict_sentiment():\n",
    "    tweet = user_tweet()\n",
    "\n",
    "# preprocess the input tweet\n",
    "tweet = preprocess_text(tweet)\n",
    "#tokenize and pad the input\n",
    "sequence = tokenizer.texts_to_sequences([tweet])\n",
    "padded_sequence = pad_sequences(sequence, maxlen=max_len)\n",
    "# make prediction\n",
    "\n",
    "predictions = third_model.predict(padded_sequence)[0]\n",
    "print(predictions)  # Output: Array of probabilities, e.g., [0.1, 0.7, 0.2]\n",
    "predicted_class = np.argmax(predictions)\n",
    "\n",
    "print(\"Predicted Class:\", predicted_class)\n",
    "\n",
    "# interpret the prediction\n",
    "if predicted_class == 0:\n",
    "    return 'Hate speech'\n",
    "elif predicted_class == 1:\n",
    "    return 'Offensive language'\n",
    "else:\n",
    "    return 'Neutral'"
   ]
  },
  {
   "cell_type": "code",
   "execution_count": 193,
   "metadata": {},
   "outputs": [
    {
     "name": "stdin",
     "output_type": "stream",
     "text": [
      "Enter a tweet:\n",
      " At least I'm not a nigger\n"
     ]
    },
    {
     "name": "stdout",
     "output_type": "stream",
     "text": [
      "[0.31943786 0.4241904  0.25637174]\n",
      "Predicted Class: 1\n"
     ]
    },
    {
     "data": {
      "text/plain": [
       "'Offensive language'"
      ]
     },
     "execution_count": 193,
     "metadata": {},
     "output_type": "execute_result"
    }
   ],
   "source": [
    "predict_sentiment()"
   ]
  },
  {
   "cell_type": "markdown",
   "metadata": {},
   "source": [
    "### Save Model"
   ]
  },
  {
   "cell_type": "code",
   "execution_count": null,
   "metadata": {},
   "outputs": [],
   "source": [
    "# Save the tokenizer to a file\n",
    "import pickle\n",
    "with open('tokenizer.pkl', 'wb') as file:\n",
    "    pickle.dump(tokenizer, file)\n"
   ]
  },
  {
   "cell_type": "code",
   "execution_count": null,
   "metadata": {},
   "outputs": [],
   "source": [
    "base_model.save('best_model.h5')"
   ]
  },
  {
   "cell_type": "markdown",
   "metadata": {},
   "source": [
    "### Save the file"
   ]
  },
  {
   "cell_type": "code",
   "execution_count": null,
   "metadata": {},
   "outputs": [],
   "source": [
    "#Save the 'train_df' to a csv file\n",
    "train_df.to_csv('Data/Final_df.csv', index=False)"
   ]
  }
 ],
 "metadata": {
  "kernelspec": {
   "display_name": "Python 3",
   "language": "python",
   "name": "python3"
  },
  "language_info": {
   "codemirror_mode": {
    "name": "ipython",
    "version": 3
   },
   "file_extension": ".py",
   "mimetype": "text/x-python",
   "name": "python",
   "nbconvert_exporter": "python",
   "pygments_lexer": "ipython3",
   "version": "3.8.5"
  }
 },
 "nbformat": 4,
 "nbformat_minor": 4
}
